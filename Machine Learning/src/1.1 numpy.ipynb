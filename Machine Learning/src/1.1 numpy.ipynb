{
 "cells": [
  {
   "cell_type": "markdown",
   "id": "a2eaf74a",
   "metadata": {},
   "source": [
    "# numpy\n",
    "### 시퀀스 데이터로부터 배열 생성"
   ]
  },
  {
   "cell_type": "code",
   "execution_count": 1,
   "id": "11336499",
   "metadata": {
    "scrolled": true
   },
   "outputs": [
    {
     "name": "stdout",
     "output_type": "stream",
     "text": [
      "[0 1 2 3 4 5]\n",
      "int32\n"
     ]
    }
   ],
   "source": [
    "import numpy as np\n",
    "\n",
    "data1 = [0, 1, 2, 3, 4, 5]\n",
    "a1 = np.array(data1)\n",
    "print(a1)                      # [0 1 2 3 4 5]\n",
    "print(a1.dtype)                # int32"
   ]
  },
  {
   "cell_type": "code",
   "execution_count": 2,
   "id": "adca9039",
   "metadata": {},
   "outputs": [
    {
     "name": "stdout",
     "output_type": "stream",
     "text": [
      "[ 0.1  5.   4.  12.   0.5]\n",
      "float64\n"
     ]
    }
   ],
   "source": [
    "data2 = [0.1, 5, 4, 12, 0.5]\n",
    "\n",
    "a2 = np.array(data2)\n",
    "print(a2)                   # [ 0.1 5. 4. 12. 0.5]\n",
    "print(a2.dtype)             # float64"
   ]
  },
  {
   "cell_type": "code",
   "execution_count": 3,
   "id": "c497c735",
   "metadata": {
    "scrolled": true
   },
   "outputs": [
    {
     "name": "stdout",
     "output_type": "stream",
     "text": [
      "[0.5  2.   0.01 8.  ]\n",
      "float64\n"
     ]
    }
   ],
   "source": [
    "a3 = np.array([0.5, 2, 0.01, 8])\n",
    "\n",
    "print(a3)                # [0.5 2. 0.01 8. ]\n",
    "print(a3.dtype)          # float64"
   ]
  },
  {
   "cell_type": "markdown",
   "id": "3a725ab6",
   "metadata": {},
   "source": [
    "### 2차원 배열"
   ]
  },
  {
   "cell_type": "code",
   "execution_count": 4,
   "id": "76be9335",
   "metadata": {
    "scrolled": false
   },
   "outputs": [
    {
     "name": "stdout",
     "output_type": "stream",
     "text": [
      "[[1 2 3]\n",
      " [4 5 6]\n",
      " [7 8 9]]\n",
      "int32\n"
     ]
    }
   ],
   "source": [
    "# 2차원 배열\n",
    "a4 = np.array([[1,2,3],[4,5,6],[7,8,9]])\n",
    "print(a4)\n",
    "print(a4.dtype)"
   ]
  },
  {
   "cell_type": "markdown",
   "id": "595c4c8a",
   "metadata": {},
   "source": [
    "### arrange함수로 범위를 지정해서 배열 생성"
   ]
  },
  {
   "cell_type": "code",
   "execution_count": 5,
   "id": "19e229d4",
   "metadata": {},
   "outputs": [
    {
     "name": "stdout",
     "output_type": "stream",
     "text": [
      "[0 2 4 6 8]\n"
     ]
    }
   ],
   "source": [
    "# np.arange(start, stop, step)\n",
    "a1 = np.arange(0, 10, 2)\n",
    "print(a1)                          # [0 2 4 6 8]"
   ]
  },
  {
   "cell_type": "code",
   "execution_count": 6,
   "id": "e6cfc06a",
   "metadata": {},
   "outputs": [
    {
     "name": "stdout",
     "output_type": "stream",
     "text": [
      "[1 2 3 4 5 6 7 8 9]\n"
     ]
    }
   ],
   "source": [
    "# np.arange(start, stop)\n",
    "a2 = np.arange(1, 10)\n",
    "print(a2)                         # [1 2 3 4 5 6 7 8 9]"
   ]
  },
  {
   "cell_type": "code",
   "execution_count": 7,
   "id": "3f8f4a88",
   "metadata": {},
   "outputs": [
    {
     "name": "stdout",
     "output_type": "stream",
     "text": [
      "[0 1 2 3 4]\n"
     ]
    }
   ],
   "source": [
    "# np.arange(stop)\n",
    "a3 = np.arange(5)\n",
    "print(a3)                        # [0 1 2 3 4]"
   ]
  },
  {
   "cell_type": "code",
   "execution_count": 8,
   "id": "fa0b5e94",
   "metadata": {},
   "outputs": [
    {
     "name": "stdout",
     "output_type": "stream",
     "text": [
      "[[ 0  1  2]\n",
      " [ 3  4  5]\n",
      " [ 6  7  8]\n",
      " [ 9 10 11]]\n",
      "(4, 3)\n"
     ]
    }
   ],
   "source": [
    "# arange(12)로 12개의 숫자 생성후 reshape(4,3)으로 4x3 행렬을 만든다.\n",
    "a4 = np.arange(12).reshape(4, 3)\n",
    "print(a4) \n",
    "print(a4.shape)                 # (4, 3) 4행 3열 행렬         "
   ]
  },
  {
   "cell_type": "code",
   "execution_count": 9,
   "id": "545a1273",
   "metadata": {},
   "outputs": [
    {
     "name": "stdout",
     "output_type": "stream",
     "text": [
      "[ 1.  2.  3.  4.  5.  6.  7.  8.  9. 10.]\n"
     ]
    }
   ],
   "source": [
    "# linspace(start, stop, num)\n",
    "# 1부터 10까지 10개의 데이터 생성\n",
    "a5 = np.linspace(1, 10, 10)\n",
    "print(a5) "
   ]
  },
  {
   "cell_type": "code",
   "execution_count": 10,
   "id": "164aafe7",
   "metadata": {},
   "outputs": [
    {
     "name": "stdout",
     "output_type": "stream",
     "text": [
      "[ 1.   5.5 10. ]\n"
     ]
    }
   ],
   "source": [
    "# 1부터 10까지 3개의 데이터 생성\n",
    "a6 = np.linspace(1, 10, 3)\n",
    "print(a6) "
   ]
  },
  {
   "cell_type": "code",
   "execution_count": 11,
   "id": "418572f6",
   "metadata": {
    "scrolled": true
   },
   "outputs": [
    {
     "name": "stdout",
     "output_type": "stream",
     "text": [
      "[0.         0.16534698 0.33069396 0.49604095 0.66138793 0.82673491\n",
      " 0.99208189 1.15742887 1.32277585 1.48812284 1.65346982 1.8188168\n",
      " 1.98416378 2.14951076 2.31485774 2.48020473 2.64555171 2.81089869\n",
      " 2.97624567 3.14159265]\n"
     ]
    }
   ],
   "source": [
    "# 0부터 pie 까지 동일한 간격으로 나눈 20개의 데이터를 생성\n",
    "a7 = np.linspace(0, np.pi, 20)\n",
    "print(a7)"
   ]
  },
  {
   "cell_type": "markdown",
   "id": "2fd3862e",
   "metadata": {},
   "source": [
    "### reshape 함수 : 1차원 배열을 2차원 배열로 변환\n",
    "#### reshape(행의 수, 열의 수)"
   ]
  },
  {
   "cell_type": "code",
   "execution_count": 12,
   "id": "c096b6c5",
   "metadata": {},
   "outputs": [
    {
     "name": "stdout",
     "output_type": "stream",
     "text": [
      "array1:\n",
      " [0 1 2 3 4 5 6 7 8 9]\n",
      "array2:\n",
      " [[0 1 2 3 4]\n",
      " [5 6 7 8 9]]\n",
      "array3:\n",
      " [[0 1]\n",
      " [2 3]\n",
      " [4 5]\n",
      " [6 7]\n",
      " [8 9]]\n"
     ]
    }
   ],
   "source": [
    "array1 = np.arange(10)                    # 0 ~ 9 까지 원소를 가진 1차원 배열\n",
    "print('array1:\\n', array1)\n",
    "\n",
    "array2 = array1.reshape(2,5)              # 2행 5열  \n",
    "print('array2:\\n', array2)\n",
    "\n",
    "array3 = array1.reshape(5,2)              # 5행 2열\n",
    "print('array3:\\n', array3)"
   ]
  },
  {
   "cell_type": "code",
   "execution_count": 13,
   "id": "42767078",
   "metadata": {},
   "outputs": [
    {
     "name": "stdout",
     "output_type": "stream",
     "text": [
      "[0 1 2 3 4 5 6 7 8 9]\n",
      "array5 shape: (2, 5)\n",
      "[[0 1 2 3 4]\n",
      " [5 6 7 8 9]]\n",
      "array6 shape: (5, 2)\n",
      "[[0 1]\n",
      " [2 3]\n",
      " [4 5]\n",
      " [6 7]\n",
      " [8 9]]\n"
     ]
    }
   ],
   "source": [
    "array4 = np.arange(10)                   # 0 ~ 9까지 원소를 가진 1차원 배열\n",
    "print(array4)\n",
    "\n",
    "# reshape(-1, 5) : 열은 5열로 만들고, -1은 행의 수를 남은 배열의 길이와 \n",
    "#                  남은 차원으로 추정해서 행을 지정하라는 의미\n",
    "array5 = array4.reshape(-1,5)\n",
    "print('array5 shape:', array5.shape)     #  (2, 5)\n",
    "print(array5)\n",
    "\n",
    "# reshape(5,-1) : 행은 5행으로 만들고, -1은 열의 수를 남은 배열의 길이와\n",
    "#                 남은 차원으로 추정해서 열을 지정하라는 의미\n",
    "array6 = array4.reshape(5,-1)\n",
    "print('array6 shape:', array6.shape)    # (5, 2)\n",
    "print(array6)"
   ]
  },
  {
   "cell_type": "code",
   "execution_count": 14,
   "id": "e128c03e",
   "metadata": {},
   "outputs": [
    {
     "ename": "ValueError",
     "evalue": "cannot reshape array of size 10 into shape (4)",
     "output_type": "error",
     "traceback": [
      "\u001b[1;31m---------------------------------------------------------------------------\u001b[0m",
      "\u001b[1;31mValueError\u001b[0m                                Traceback (most recent call last)",
      "\u001b[1;32mC:\\Users\\Public\\Documents\\ESTsoft\\CreatorTemp/ipykernel_8316/2498033917.py\u001b[0m in \u001b[0;36m<module>\u001b[1;34m\u001b[0m\n\u001b[0;32m      1\u001b[0m \u001b[1;31m# 배열의 원소의 수와 차원의 수가 맞지 않으면 오류 발생한다.\u001b[0m\u001b[1;33m\u001b[0m\u001b[1;33m\u001b[0m\u001b[0m\n\u001b[0;32m      2\u001b[0m \u001b[0marray7\u001b[0m \u001b[1;33m=\u001b[0m \u001b[0mnp\u001b[0m\u001b[1;33m.\u001b[0m\u001b[0marange\u001b[0m\u001b[1;33m(\u001b[0m\u001b[1;36m10\u001b[0m\u001b[1;33m)\u001b[0m              \u001b[1;31m# 0 ~ 9까지 원소를 가진 1차원 배열\u001b[0m\u001b[1;33m\u001b[0m\u001b[1;33m\u001b[0m\u001b[0m\n\u001b[1;32m----> 3\u001b[1;33m \u001b[0marray8\u001b[0m \u001b[1;33m=\u001b[0m \u001b[0marray7\u001b[0m\u001b[1;33m.\u001b[0m\u001b[0mreshape\u001b[0m\u001b[1;33m(\u001b[0m\u001b[1;33m-\u001b[0m\u001b[1;36m1\u001b[0m\u001b[1;33m,\u001b[0m\u001b[1;36m4\u001b[0m\u001b[1;33m)\u001b[0m\u001b[1;33m\u001b[0m\u001b[1;33m\u001b[0m\u001b[0m\n\u001b[0m",
      "\u001b[1;31mValueError\u001b[0m: cannot reshape array of size 10 into shape (4)"
     ]
    }
   ],
   "source": [
    "# 배열의 원소의 수와 차원의 수가 맞지 않으면 오류 발생한다.\n",
    "array7 = np.arange(10)              # 0 ~ 9까지 원소를 가진 1차원 배열    \n",
    "array8 = array7.reshape(-1,4)"
   ]
  },
  {
   "cell_type": "code",
   "execution_count": 15,
   "id": "2cfff7f1",
   "metadata": {},
   "outputs": [
    {
     "name": "stdout",
     "output_type": "stream",
     "text": [
      "array10:\n",
      " [[0], [1], [2], [3], [4], [5], [6], [7]]\n",
      "array10 shape: (8, 1)\n",
      "array3d:\n",
      " [[[0, 1], [2, 3]], [[4, 5], [6, 7]]]\n",
      "array3d shape: (2, 2, 2)\n",
      "array11:\n",
      " [[0], [1], [2], [3], [4], [5], [6], [7]]\n",
      "array11 shape: (8, 1)\n"
     ]
    }
   ],
   "source": [
    "array9 = np.arange(8)                       # 0 ~ 7까지 원소를 가진 1차원 배열\n",
    "\n",
    "# 1차원 배열을 2차원 배열로 변환\n",
    "array10 = array9.reshape(-1,1)\n",
    "print('array10:\\n',array10.tolist())        # [[0], [1], [2], [3], [4], [5], [6], [7]]\n",
    "print('array10 shape:', array10.shape)      # (8,1)\n",
    "\n",
    "# 1차원 배열을 3차원 배열로 변환\n",
    "array3d = array9.reshape((2,2,2))           # 3차원 배열\n",
    "print('array3d:\\n', array3d.tolist())       # [[[0, 1], [2, 3]], [[4, 5], [6, 7]]]\n",
    "print('array3d shape:', array3d.shape)      # (2, 2, 2)\n",
    "\n",
    "# 3차원 배열을 2차원 배열로 변환\n",
    "array11 = array3d.reshape(-1,1)\n",
    "print('array11:\\n',array11.tolist())        # [[0], [1], [2], [3], [4], [5], [6], [7]]\n",
    "print('array11 shape:', array11.shape)      # (8,1)"
   ]
  },
  {
   "cell_type": "markdown",
   "id": "5343ad6b",
   "metadata": {},
   "source": [
    "### 특별한 형태의 배열 생성"
   ]
  },
  {
   "cell_type": "code",
   "execution_count": 16,
   "id": "a277de1a",
   "metadata": {},
   "outputs": [
    {
     "name": "stdout",
     "output_type": "stream",
     "text": [
      "[0. 0. 0. 0. 0. 0. 0. 0. 0. 0.]\n"
     ]
    }
   ],
   "source": [
    "import numpy as np\n",
    "\n",
    "# zeros()함수로 원소의 갯수가 10개인 1차원 배열 생성\n",
    "a1 = np.zeros(10)\n",
    "print(a1) "
   ]
  },
  {
   "cell_type": "code",
   "execution_count": 17,
   "id": "d4612e79",
   "metadata": {},
   "outputs": [
    {
     "name": "stdout",
     "output_type": "stream",
     "text": [
      "[[0. 0. 0. 0.]\n",
      " [0. 0. 0. 0.]\n",
      " [0. 0. 0. 0.]]\n"
     ]
    }
   ],
   "source": [
    "# zeros()함수를 이용해 3 x 4의 2차원 배열을 생성\n",
    "a2 = np.zeros((3, 4))\n",
    "print(a2) "
   ]
  },
  {
   "cell_type": "code",
   "execution_count": 18,
   "id": "02df51e6",
   "metadata": {},
   "outputs": [
    {
     "name": "stdout",
     "output_type": "stream",
     "text": [
      "[1. 1. 1. 1. 1.]\n"
     ]
    }
   ],
   "source": [
    "# ones() 함수로 원소의 갯수가 5인 1차원 배열 생성\n",
    "a3 = np.ones(5)\n",
    "print(a3) "
   ]
  },
  {
   "cell_type": "code",
   "execution_count": 19,
   "id": "62582695",
   "metadata": {},
   "outputs": [
    {
     "name": "stdout",
     "output_type": "stream",
     "text": [
      "[[1. 1. 1. 1. 1.]\n",
      " [1. 1. 1. 1. 1.]\n",
      " [1. 1. 1. 1. 1.]]\n"
     ]
    }
   ],
   "source": [
    "# ones() 함수로 3 x 5 인 2차원 배열 생성\n",
    "a4 = np.ones((3, 5))\n",
    "print(a4) "
   ]
  },
  {
   "cell_type": "code",
   "execution_count": 20,
   "id": "777f432c",
   "metadata": {},
   "outputs": [
    {
     "name": "stdout",
     "output_type": "stream",
     "text": [
      "[[1. 0. 0.]\n",
      " [0. 1. 0.]\n",
      " [0. 0. 1.]]\n"
     ]
    }
   ],
   "source": [
    "# 3 x 3 단위 행렬 생성\n",
    "a5 = np.eye(3)\n",
    "print(a5) "
   ]
  },
  {
   "cell_type": "markdown",
   "id": "4e7d092c",
   "metadata": {},
   "source": [
    "### 배열의 데이터 타입 변환 "
   ]
  },
  {
   "cell_type": "code",
   "execution_count": 21,
   "id": "dfffa1c6",
   "metadata": {},
   "outputs": [
    {
     "name": "stdout",
     "output_type": "stream",
     "text": [
      "['1.567' '0.123' '5.123' '9' '8']\n",
      "<U5\n"
     ]
    }
   ],
   "source": [
    "# 1.문자를 원소로 갖는 numpy 배열 생성\n",
    "str_a1 = np.array(['1.567','0.123','5.123','9','8'])\n",
    "print(str_a1)                        # ['1.567' '0.123' '5.123' '9' '8']\n",
    "print(str_a1.dtype)                  # <U5 유니코드 5자리(문자 5자리)"
   ]
  },
  {
   "cell_type": "code",
   "execution_count": 22,
   "id": "ae577d45",
   "metadata": {},
   "outputs": [
    {
     "name": "stdout",
     "output_type": "stream",
     "text": [
      "[1.567 0.123 5.123 9.    8.   ]\n",
      "float64\n"
     ]
    }
   ],
   "source": [
    "# astype()함수로 문자를 실수형으로 형변환\n",
    "num_a1 = str_a1.astype(float)\n",
    "print(num_a1)                        # [1.567 0.123 5.123 9. 8. ]\n",
    "print(num_a1.dtype)                  # float64"
   ]
  },
  {
   "cell_type": "code",
   "execution_count": 23,
   "id": "7a327fa2",
   "metadata": {},
   "outputs": [
    {
     "name": "stdout",
     "output_type": "stream",
     "text": [
      "['1' '3' '5' '7' '9']\n",
      "<U1\n"
     ]
    }
   ],
   "source": [
    "# 2.문자를 원소로 갖는 numpy 배열 생성\n",
    "str_a2 = np.array(['1','3','5','7','9'])\n",
    "print(str_a2)                     # ['1' '3' '5' '7' '9']\n",
    "print(str_a2.dtype)               # <U1 유니코드 1자리(문자 1자리)"
   ]
  },
  {
   "cell_type": "code",
   "execution_count": 24,
   "id": "df757cf9",
   "metadata": {},
   "outputs": [
    {
     "name": "stdout",
     "output_type": "stream",
     "text": [
      "[1 3 5 7 9]\n",
      "int32\n"
     ]
    }
   ],
   "source": [
    "# astype()함수로 문자를 정수형으로 형변환\n",
    "num_a2 = str_a2.astype(int)\n",
    "print(num_a2)                    # [1 3 5 7 9]\n",
    "print(num_a2.dtype)              # int32"
   ]
  },
  {
   "cell_type": "code",
   "execution_count": 25,
   "id": "34c1e332",
   "metadata": {},
   "outputs": [
    {
     "name": "stdout",
     "output_type": "stream",
     "text": [
      "[10.    21.     0.549  4.75   5.98 ]\n",
      "float64\n"
     ]
    }
   ],
   "source": [
    "# 3.실수를 원소로 갖는 numpy 배열 생성\n",
    "num_f1 = np.array([10, 21, 0.549, 4.75, 5.98])\n",
    "print(num_f1)                   # [10. 21. 0.549 4.75 5.98 ]\n",
    "print(num_f1.dtype)             # float64"
   ]
  },
  {
   "cell_type": "code",
   "execution_count": 26,
   "id": "640a836e",
   "metadata": {},
   "outputs": [
    {
     "name": "stdout",
     "output_type": "stream",
     "text": [
      "[10 21  0  4  5]\n",
      "int32\n"
     ]
    }
   ],
   "source": [
    "# astype()함수로 실수를 정수형으로 형변환\n",
    "num_i1 = num_f1.astype(int)\n",
    "print(num_i1)                   # [10 21 0 4 5]\n",
    "print(num_i1.dtype)             # int32"
   ]
  },
  {
   "cell_type": "markdown",
   "id": "15073ac8",
   "metadata": {},
   "source": [
    "### 난수 배열의 생성"
   ]
  },
  {
   "cell_type": "code",
   "execution_count": 27,
   "id": "1c80ba81",
   "metadata": {},
   "outputs": [
    {
     "name": "stdout",
     "output_type": "stream",
     "text": [
      "0.38276292771808795\n"
     ]
    }
   ],
   "source": [
    "# 0.0 <= r1 < 1.0 사이의 실수형태의 난수 발생\n",
    "r1 = np.random.rand()\n",
    "print(r1)"
   ]
  },
  {
   "cell_type": "code",
   "execution_count": 28,
   "id": "deadcf55",
   "metadata": {},
   "outputs": [
    {
     "name": "stdout",
     "output_type": "stream",
     "text": [
      "[[0.41580482 0.89424321 0.13122853]\n",
      " [0.98571839 0.72446666 0.97077937]]\n"
     ]
    }
   ],
   "source": [
    "# 0.0 <= r2 < 1.0 사이의 실수형태의 2행 3열 난수 발생\n",
    "r2 = np.random.rand(2,3)\n",
    "print(r2)"
   ]
  },
  {
   "cell_type": "code",
   "execution_count": 29,
   "id": "d0817fc3",
   "metadata": {},
   "outputs": [
    {
     "name": "stdout",
     "output_type": "stream",
     "text": [
      "3\n"
     ]
    }
   ],
   "source": [
    "# 1 <= r3 < 30 사이의 정수형태의 난수 발생\n",
    "r3 = np.random.randint(1,30)\n",
    "print(r3)"
   ]
  },
  {
   "cell_type": "code",
   "execution_count": 30,
   "id": "449c6822",
   "metadata": {},
   "outputs": [
    {
     "name": "stdout",
     "output_type": "stream",
     "text": [
      "[[0 6 2 2]\n",
      " [7 8 8 0]\n",
      " [5 7 7 7]]\n"
     ]
    }
   ],
   "source": [
    "# 0 <= r4 < 10 사이의 정수형태의 3행 4열 난수 발생\n",
    "r4 = np.random.randint(10, size=(3, 4))\n",
    "print(r4)"
   ]
  },
  {
   "cell_type": "markdown",
   "id": "09a47da9",
   "metadata": {},
   "source": [
    "### 배열의 산술 연산"
   ]
  },
  {
   "cell_type": "code",
   "execution_count": 31,
   "id": "3ebda25f",
   "metadata": {},
   "outputs": [],
   "source": [
    "arr1 = np.array([10, 20, 30, 40])\n",
    "arr2 = np.array([1, 2, 3, 4])"
   ]
  },
  {
   "cell_type": "code",
   "execution_count": 32,
   "id": "b3278c0d",
   "metadata": {},
   "outputs": [
    {
     "name": "stdout",
     "output_type": "stream",
     "text": [
      "[11 22 33 44]\n"
     ]
    }
   ],
   "source": [
    "a1 = arr1 + arr2             # 배열 더하기 : 각 원소끼리 더하기\n",
    "print(a1)                    # [11 22 33 44]"
   ]
  },
  {
   "cell_type": "code",
   "execution_count": 33,
   "id": "0d0ff6c4",
   "metadata": {},
   "outputs": [
    {
     "name": "stdout",
     "output_type": "stream",
     "text": [
      "[ 9 18 27 36]\n"
     ]
    }
   ],
   "source": [
    "a2 = arr1 - arr2            # 배열 빼기: 각 원소끼리 빼기\n",
    "print(a2)                   # [ 9 18 27 36]"
   ]
  },
  {
   "cell_type": "code",
   "execution_count": 34,
   "id": "54fe5595",
   "metadata": {},
   "outputs": [
    {
     "name": "stdout",
     "output_type": "stream",
     "text": [
      "[2 4 6 8]\n"
     ]
    }
   ],
   "source": [
    "a3 = arr2 * 2              # 배열에 상수 곱하기\n",
    "print(a3)                  # [2 4 6 8]"
   ]
  },
  {
   "cell_type": "code",
   "execution_count": 35,
   "id": "7e88090c",
   "metadata": {},
   "outputs": [
    {
     "name": "stdout",
     "output_type": "stream",
     "text": [
      "[ 1  4  9 16]\n"
     ]
    }
   ],
   "source": [
    "a4 = arr2 ** 2            # 배열에 거듭제곱\n",
    "print(a4)                 # [ 1 4 9 16]"
   ]
  },
  {
   "cell_type": "code",
   "execution_count": 36,
   "id": "dd8e53ae",
   "metadata": {},
   "outputs": [
    {
     "name": "stdout",
     "output_type": "stream",
     "text": [
      "[ 10  40  90 160]\n"
     ]
    }
   ],
   "source": [
    "a5 = arr1 * arr2         # 배열 곱하기 : 각 원소끼리 곱함\n",
    "print(a5)                # [ 10 40 90 160]"
   ]
  },
  {
   "cell_type": "code",
   "execution_count": 37,
   "id": "624d3ded",
   "metadata": {},
   "outputs": [
    {
     "name": "stdout",
     "output_type": "stream",
     "text": [
      "[10. 10. 10. 10.]\n"
     ]
    }
   ],
   "source": [
    "a6 = arr1 / arr2         # 배열 나누기 : 각 원소끼리 나눔\n",
    "print(a6)                # [10. 10. 10. 10.]"
   ]
  },
  {
   "cell_type": "code",
   "execution_count": 38,
   "id": "3c2c7ce9",
   "metadata": {},
   "outputs": [
    {
     "name": "stdout",
     "output_type": "stream",
     "text": [
      "[10.          5.          3.33333333  2.5       ]\n"
     ]
    }
   ],
   "source": [
    "a7 = arr1 / (arr2 ** 2)  # 복합 연산\n",
    "print(a7)                # [ 10. 5. 3.33333333 2.5 ]"
   ]
  },
  {
   "cell_type": "code",
   "execution_count": 39,
   "id": "d062475b",
   "metadata": {},
   "outputs": [
    {
     "name": "stdout",
     "output_type": "stream",
     "text": [
      "[False False  True  True]\n"
     ]
    }
   ],
   "source": [
    "# 비교연산 : 각 원소와 비교해서 참이면 True, 거짓이면 False 리턴\n",
    "a8 = arr1 > 20\n",
    "print(a8)                # [False False True True]"
   ]
  },
  {
   "cell_type": "markdown",
   "id": "ae18f67c",
   "metadata": {},
   "source": [
    "### numpy의 통계분석 함수\n",
    "sum() : 원소의 합\n",
    "\n",
    "mean() : 평균\n",
    "\n",
    "var() : 분산\n",
    "\n",
    "std() : 표준편차\n",
    "\n",
    "max() : 최대값\n",
    "\n",
    "min() : 최소값\n",
    "\n",
    "cumsum() : 각 원소의 누적 합\n",
    "\n",
    "cumprod() : 각 원소의 누적 곱"
   ]
  },
  {
   "cell_type": "code",
   "execution_count": 40,
   "id": "9296ad40",
   "metadata": {},
   "outputs": [
    {
     "name": "stdout",
     "output_type": "stream",
     "text": [
      "[0 1 2 3 4]\n"
     ]
    }
   ],
   "source": [
    "arr3 = np.arange(5)\n",
    "print(arr3) "
   ]
  },
  {
   "cell_type": "code",
   "execution_count": 41,
   "id": "1932bf30",
   "metadata": {},
   "outputs": [
    {
     "name": "stdout",
     "output_type": "stream",
     "text": [
      "10\n"
     ]
    }
   ],
   "source": [
    "sum = arr3.sum()              # 배열 각 원소의 합\n",
    "print(sum)                    # 10"
   ]
  },
  {
   "cell_type": "code",
   "execution_count": 42,
   "id": "a4327d6d",
   "metadata": {},
   "outputs": [
    {
     "name": "stdout",
     "output_type": "stream",
     "text": [
      "2.0\n"
     ]
    }
   ],
   "source": [
    "mean = arr3.mean()           # 배열 원소의 평균\n",
    "print(mean)                  # 2.0"
   ]
  },
  {
   "cell_type": "code",
   "execution_count": 43,
   "id": "d62d5c82",
   "metadata": {},
   "outputs": [
    {
     "name": "stdout",
     "output_type": "stream",
     "text": [
      "2.0\n"
     ]
    }
   ],
   "source": [
    "var = arr3.var()             # 분산\n",
    "print(var)                   # 2.0"
   ]
  },
  {
   "cell_type": "code",
   "execution_count": 44,
   "id": "33cc7b40",
   "metadata": {},
   "outputs": [
    {
     "name": "stdout",
     "output_type": "stream",
     "text": [
      "1.4142135623730951\n"
     ]
    }
   ],
   "source": [
    "std = arr3.std()             # 표준편차\n",
    "print(std)                   # 1.4142135623730951"
   ]
  },
  {
   "cell_type": "code",
   "execution_count": 45,
   "id": "4f635f3e",
   "metadata": {},
   "outputs": [
    {
     "name": "stdout",
     "output_type": "stream",
     "text": [
      "4\n"
     ]
    }
   ],
   "source": [
    "max = arr3.max()            # 최대값\n",
    "print(max)                  # 4"
   ]
  },
  {
   "cell_type": "code",
   "execution_count": 46,
   "id": "524f1428",
   "metadata": {},
   "outputs": [
    {
     "name": "stdout",
     "output_type": "stream",
     "text": [
      "0\n"
     ]
    }
   ],
   "source": [
    "min = arr3.min()            # 최소값\n",
    "print(min)                  # 0"
   ]
  },
  {
   "cell_type": "code",
   "execution_count": 47,
   "id": "015e939d",
   "metadata": {},
   "outputs": [
    {
     "name": "stdout",
     "output_type": "stream",
     "text": [
      "[1 2 3 4]\n"
     ]
    }
   ],
   "source": [
    "arr4 = np.arange(1, 5)\n",
    "print(arr4)                 # [1 2 3 4]"
   ]
  },
  {
   "cell_type": "code",
   "execution_count": 48,
   "id": "1a13bc6c",
   "metadata": {},
   "outputs": [
    {
     "name": "stdout",
     "output_type": "stream",
     "text": [
      "[ 1  3  6 10]\n"
     ]
    }
   ],
   "source": [
    "cumsum = arr4.cumsum()      # 각 원소들의 누적합\n",
    "print(cumsum)               # [ 1 3 6 10]"
   ]
  },
  {
   "cell_type": "code",
   "execution_count": 49,
   "id": "152f8aab",
   "metadata": {},
   "outputs": [
    {
     "name": "stdout",
     "output_type": "stream",
     "text": [
      "[ 1  2  6 24]\n"
     ]
    }
   ],
   "source": [
    "cumprod = arr4.cumprod()   # 각 원소들의 누적곱\n",
    "print(cumprod)             # [ 1 2 6 24]"
   ]
  },
  {
   "cell_type": "markdown",
   "id": "ccff4adf",
   "metadata": {},
   "source": [
    "### 행렬 연산"
   ]
  },
  {
   "cell_type": "code",
   "execution_count": 50,
   "id": "179787be",
   "metadata": {},
   "outputs": [
    {
     "name": "stdout",
     "output_type": "stream",
     "text": [
      "[[0 1]\n",
      " [2 3]]\n",
      "[[3 2]\n",
      " [0 1]]\n"
     ]
    }
   ],
   "source": [
    "# 2 x 2 행렬 A와 B 생성\n",
    "A = np.array([0,1,2,3]).reshape(2,2)\n",
    "B = np.array([3,2,0,1]).reshape(2,2)\n",
    "print(A)\n",
    "print(B)"
   ]
  },
  {
   "cell_type": "code",
   "execution_count": 51,
   "id": "f693c13f",
   "metadata": {},
   "outputs": [
    {
     "name": "stdout",
     "output_type": "stream",
     "text": [
      "[[0 1]\n",
      " [6 7]]\n",
      "[[0 1]\n",
      " [6 7]]\n"
     ]
    }
   ],
   "source": [
    "# 행렬 곱\n",
    "print(A.dot(B))\n",
    "print(np.dot(A,B))"
   ]
  },
  {
   "cell_type": "code",
   "execution_count": 52,
   "id": "9ba97434",
   "metadata": {},
   "outputs": [
    {
     "name": "stdout",
     "output_type": "stream",
     "text": [
      "[[0 2]\n",
      " [1 3]]\n",
      "[[0 2]\n",
      " [1 3]]\n"
     ]
    }
   ],
   "source": [
    "# 행렬 A의 전치 행렬\n",
    "print(A.transpose())\n",
    "print(np.transpose(A))"
   ]
  },
  {
   "cell_type": "code",
   "execution_count": 53,
   "id": "a76fa99d",
   "metadata": {},
   "outputs": [
    {
     "name": "stdout",
     "output_type": "stream",
     "text": [
      "[[-1.5  0.5]\n",
      " [ 1.   0. ]]\n"
     ]
    }
   ],
   "source": [
    "# 행렬 A의 역행렬\n",
    "print(np.linalg.inv(A))"
   ]
  },
  {
   "cell_type": "code",
   "execution_count": 54,
   "id": "6e53cf0b",
   "metadata": {},
   "outputs": [
    {
     "name": "stdout",
     "output_type": "stream",
     "text": [
      "-2.0\n"
     ]
    }
   ],
   "source": [
    "# 행렬 A의 행렬식\n",
    "print(np.linalg.det(A))           # -2.0"
   ]
  },
  {
   "cell_type": "markdown",
   "id": "57df4d28",
   "metadata": {},
   "source": [
    "### 1차원 배열의 인덱싱"
   ]
  },
  {
   "cell_type": "code",
   "execution_count": 55,
   "id": "bfb59e69",
   "metadata": {},
   "outputs": [
    {
     "name": "stdout",
     "output_type": "stream",
     "text": [
      "[ 0 10 20 30 40 50]\n"
     ]
    }
   ],
   "source": [
    "# 1차원 배열 정의\n",
    "a1 = np.array([0, 10, 20, 30, 40, 50])\n",
    "print(a1)                       # [ 0 10 20 30 40 50]"
   ]
  },
  {
   "cell_type": "code",
   "execution_count": 56,
   "id": "fe6b2ec1",
   "metadata": {},
   "outputs": [
    {
     "name": "stdout",
     "output_type": "stream",
     "text": [
      "10\n"
     ]
    }
   ],
   "source": [
    "# index 번호 1번 위치의 원소\n",
    "print(a1[1])                   # 10"
   ]
  },
  {
   "cell_type": "code",
   "execution_count": 57,
   "id": "4fcf8a1d",
   "metadata": {},
   "outputs": [
    {
     "name": "stdout",
     "output_type": "stream",
     "text": [
      "40\n"
     ]
    }
   ],
   "source": [
    "# index 번호 4번 위치의 원소\n",
    "print(a1[4])                   # 40"
   ]
  },
  {
   "cell_type": "code",
   "execution_count": 58,
   "id": "42bf99df",
   "metadata": {},
   "outputs": [
    {
     "name": "stdout",
     "output_type": "stream",
     "text": [
      "70\n"
     ]
    }
   ],
   "source": [
    "# index 번호 5번 위치의 원소값 50 -> 70으로 수정\n",
    "a1[5] = 70\n",
    "print(a1[5])                   # 70"
   ]
  },
  {
   "cell_type": "code",
   "execution_count": 59,
   "id": "b62d4a7b",
   "metadata": {},
   "outputs": [
    {
     "name": "stdout",
     "output_type": "stream",
     "text": [
      "[10 30 40]\n"
     ]
    }
   ],
   "source": [
    "# 1차원 배열에서 여러개의 원소 구하기\n",
    "print(a1[[1,3,4]])            # [10 30 40]"
   ]
  },
  {
   "cell_type": "markdown",
   "id": "a3f65234",
   "metadata": {},
   "source": [
    "### 2차원 배열의 인덱싱"
   ]
  },
  {
   "cell_type": "code",
   "execution_count": 60,
   "id": "fae20ea4",
   "metadata": {},
   "outputs": [
    {
     "name": "stdout",
     "output_type": "stream",
     "text": [
      "[[10 20 30]\n",
      " [40 50 60]\n",
      " [70 80 90]]\n"
     ]
    }
   ],
   "source": [
    "# 2차원 배열 정의 : 10 ~ 90까지 10씩 증가된 배열\n",
    "a2 = np.arange(10, 100, 10).reshape(3, 3)\n",
    "print(a2) "
   ]
  },
  {
   "cell_type": "code",
   "execution_count": 61,
   "id": "4da2c0bf",
   "metadata": {},
   "outputs": [
    {
     "name": "stdout",
     "output_type": "stream",
     "text": [
      "30\n"
     ]
    }
   ],
   "source": [
    "# 배열명[행위치, 열위치] : 0행 2열의 원소를 구함\n",
    "print(a2[0, 2])                # 30"
   ]
  },
  {
   "cell_type": "code",
   "execution_count": 62,
   "id": "8d8ade9c",
   "metadata": {},
   "outputs": [
    {
     "name": "stdout",
     "output_type": "stream",
     "text": [
      "[[10 20 30]\n",
      " [40 50 60]\n",
      " [70 80 95]]\n"
     ]
    }
   ],
   "source": [
    "# 2행 2열의 값을 90 -> 95 로 변경\n",
    "a2[2, 2] = 95\n",
    "print(a2) "
   ]
  },
  {
   "cell_type": "code",
   "execution_count": 63,
   "id": "88da0914",
   "metadata": {},
   "outputs": [
    {
     "name": "stdout",
     "output_type": "stream",
     "text": [
      "[[10 20 30]\n",
      " [45 55 65]\n",
      " [70 80 95]]\n"
     ]
    }
   ],
   "source": [
    "# 2차원 배열의 1행 젂체를 변경:[40,50,60]->[45,55,65]\n",
    "a2[1] = np.array([45, 55, 65])\n",
    "print(a2) "
   ]
  },
  {
   "cell_type": "code",
   "execution_count": 64,
   "id": "2c83c772",
   "metadata": {},
   "outputs": [
    {
     "name": "stdout",
     "output_type": "stream",
     "text": [
      "[10 80]\n"
     ]
    }
   ],
   "source": [
    "# 2차원 배열의 행과 열의 위치를 지정해서 여러 원소 구하기\n",
    "# 배열명[ [행위치1,행위치2],[열위치1,열위치2] ]\n",
    "# (0,0)위치의 원소 10, (2,1)위치의 원소 80 을 구함\n",
    "print(a2[[0, 2], [0, 1]])             # [10 80]"
   ]
  },
  {
   "cell_type": "code",
   "execution_count": 65,
   "id": "9bc7a1cb",
   "metadata": {},
   "outputs": [
    {
     "name": "stdout",
     "output_type": "stream",
     "text": [
      "[4 5 6]\n"
     ]
    }
   ],
   "source": [
    "# 2차원 배열에서 조건을 만족하는 원소 구하기\n",
    "# 배열명[조건] : 조건에 맞는 원소만 구함\n",
    "a = np.array([1, 2, 3, 4, 5, 6])\n",
    "print(a[a > 3])                      # [4 5 6]"
   ]
  },
  {
   "cell_type": "markdown",
   "id": "59b696b9",
   "metadata": {},
   "source": [
    "### 1차원 배열의 슬라이싱"
   ]
  },
  {
   "cell_type": "code",
   "execution_count": 66,
   "id": "d8d889aa",
   "metadata": {},
   "outputs": [
    {
     "data": {
      "text/plain": [
       "array([ 0, 10, 20, 30, 40, 50])"
      ]
     },
     "execution_count": 66,
     "metadata": {},
     "output_type": "execute_result"
    }
   ],
   "source": [
    "# 1차원 배열 정의\n",
    "b1 = np.array([0, 10, 20, 30, 40, 50])\n",
    "b1"
   ]
  },
  {
   "cell_type": "code",
   "execution_count": 67,
   "id": "24d7bd53",
   "metadata": {},
   "outputs": [
    {
     "name": "stdout",
     "output_type": "stream",
     "text": [
      "[10 20 30]\n"
     ]
    }
   ],
   "source": [
    "# 배열[시작위치 : 끝위치]:시작위치 ~ 끝위치-1 까지 슬라이싱\n",
    "# 인덱스 1 ~ 3번 원소를 슬라이싱\n",
    "print(b1[1:4])                       # [10 20 30]"
   ]
  },
  {
   "cell_type": "code",
   "execution_count": 68,
   "id": "4414dbb4",
   "metadata": {},
   "outputs": [
    {
     "name": "stdout",
     "output_type": "stream",
     "text": [
      "[20 30 40 50]\n"
     ]
    }
   ],
   "source": [
    "# 배열[시작위치 : ]:시작위치 ~ 끝위치 까지 슬라이싱\n",
    "# 인덱스 2번 부터 끝까지 슬라이싱\n",
    "print(b1[2:])                       # [20 30 40 50]"
   ]
  },
  {
   "cell_type": "code",
   "execution_count": 69,
   "id": "6958f3cb",
   "metadata": {},
   "outputs": [
    {
     "name": "stdout",
     "output_type": "stream",
     "text": [
      "[ 0 10 20]\n"
     ]
    }
   ],
   "source": [
    "# 배열[ : 끝위치]:시작위치 ~ 끝위치-1 까지 슬라이싱\n",
    "# 처음부터 인덱스 2번 까지 슬라이싱\n",
    "print(b1[:3])                      # [ 0 10 20]"
   ]
  },
  {
   "cell_type": "code",
   "execution_count": 70,
   "id": "35600e60",
   "metadata": {},
   "outputs": [
    {
     "name": "stdout",
     "output_type": "stream",
     "text": [
      "[ 0 10 25 35 45 50]\n"
     ]
    }
   ],
   "source": [
    "# 슬라이싱으로 원소의 값 변경\n",
    "# 인덱스 2~4번 원소의 값을 [25, 35, 45]로 변경\n",
    "b1[2:5] = np.array([25, 35, 45])\n",
    "print(b1)                         # [ 0 10 25 35 45 50]"
   ]
  },
  {
   "cell_type": "markdown",
   "id": "046b7da0",
   "metadata": {},
   "source": [
    "### 2차원 배열의 슬라이싱"
   ]
  },
  {
   "cell_type": "code",
   "execution_count": 71,
   "id": "92e36f5d",
   "metadata": {},
   "outputs": [
    {
     "name": "stdout",
     "output_type": "stream",
     "text": [
      "[[10 20 30]\n",
      " [40 50 60]\n",
      " [70 80 90]]\n"
     ]
    }
   ],
   "source": [
    "# 2차원 배열 정의 : 10 ~ 90 까지 10씩 증가된 3행 3열 배열\n",
    "b2 = np.arange(10, 100, 10).reshape(3,3)\n",
    "print(b2)"
   ]
  },
  {
   "cell_type": "code",
   "execution_count": 72,
   "id": "d5c67d51",
   "metadata": {},
   "outputs": [
    {
     "name": "stdout",
     "output_type": "stream",
     "text": [
      "[[50 60]\n",
      " [80 90]]\n"
     ]
    }
   ],
   "source": [
    "# 배열[행 시작위치 : 행 끝위치 , 열 시작위치 : 열 끝위치]\n",
    "# 1~2행, 1~2열 슬라이싱\n",
    "print(b2[1:3, 1:3]) "
   ]
  },
  {
   "cell_type": "code",
   "execution_count": 73,
   "id": "8cf8cb01",
   "metadata": {},
   "outputs": [
    {
     "name": "stdout",
     "output_type": "stream",
     "text": [
      "[[20 30]\n",
      " [50 60]\n",
      " [80 90]]\n"
     ]
    }
   ],
   "source": [
    "# 0~2행, 1~2열 슬라이싱\n",
    "print(b2[:3, 1:]) "
   ]
  },
  {
   "cell_type": "code",
   "execution_count": 74,
   "id": "37308057",
   "metadata": {},
   "outputs": [
    {
     "name": "stdout",
     "output_type": "stream",
     "text": [
      "[40 50]\n"
     ]
    }
   ],
   "source": [
    "# 1행, 0~1열 슬라이싱\n",
    "print(b2[1][0:2]) "
   ]
  },
  {
   "cell_type": "code",
   "execution_count": 75,
   "id": "5feff35a",
   "metadata": {},
   "outputs": [
    {
     "name": "stdout",
     "output_type": "stream",
     "text": [
      "[[10 25 35]\n",
      " [40 55 65]\n",
      " [70 80 90]]\n"
     ]
    }
   ],
   "source": [
    "# 2차원 배열에서 슬라이싱 된 배열에 값을 지정\n",
    "# 0~1행, 1~2열 위치에 [25, 35], [55, 65] 값 변경\n",
    "b2[0:2, 1:3] = np.array([[25, 35],[55, 65]])\n",
    "print(b2) "
   ]
  }
 ],
 "metadata": {
  "kernelspec": {
   "display_name": "Python 3 (ipykernel)",
   "language": "python",
   "name": "python3"
  },
  "language_info": {
   "codemirror_mode": {
    "name": "ipython",
    "version": 3
   },
   "file_extension": ".py",
   "mimetype": "text/x-python",
   "name": "python",
   "nbconvert_exporter": "python",
   "pygments_lexer": "ipython3",
   "version": "3.9.7"
  }
 },
 "nbformat": 4,
 "nbformat_minor": 5
}

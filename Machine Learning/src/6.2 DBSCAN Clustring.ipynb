{
 "cells": [
  {
   "attachments": {},
   "cell_type": "markdown",
   "id": "4b65f36a",
   "metadata": {},
   "source": [
    "# DBSCAN Clustring\n",
    "#### 학교알리미 공개용 데이터 중에서 서울시 중학교 졸업생의 진로현황 데이터셋을  사용하여 고등학교 진학률이 비슷한 중학교끼리 군집(cluster)을 만들어 보자"
   ]
  },
  {
   "cell_type": "code",
   "execution_count": 2,
   "id": "7efed903",
   "metadata": {},
   "outputs": [],
   "source": [
    "# pip install folium\n",
    "\n",
    "import pandas as pd\n",
    "import folium"
   ]
  },
  {
   "cell_type": "markdown",
   "id": "bb989dd5",
   "metadata": {},
   "source": [
    "### 데이터 준비하기"
   ]
  },
  {
   "cell_type": "code",
   "execution_count": 3,
   "id": "f8cb8c75",
   "metadata": {},
   "outputs": [
    {
     "name": "stdout",
     "output_type": "stream",
     "text": [
      "     Unnamed: 0   지역               학교명  코드  유형  주야  남학생수  여학생수    일반고   특성화고  \\\n",
      "0             0  성북구    서울대학교사범대학부설중학교   3  국립  주간   277     0  0.585  0.148   \n",
      "1             1  종로구  서울대학교사범대학부설여자중학교   3  국립  주간     0   256  0.680  0.199   \n",
      "2             2  강남구             개원중학교   3  공립  주간   170   152  0.817  0.047   \n",
      "3             3  강남구             개포중학교   3  공립  주간    83    72  0.755  0.097   \n",
      "4             4  서초구             경원중학교   3  공립  주간   199   212  0.669  0.017   \n",
      "..          ...  ...               ...  ..  ..  ..   ...   ...    ...    ...   \n",
      "410         410  강남구           국립국악중학교   9  국립  주간     9    91  0.060  0.000   \n",
      "411         411  금천구         국립전통예술중학교   9  국립  주간    14    42  0.107  0.000   \n",
      "412         412  광진구            선화예술학교   9  사립  주간    33   241  0.102  0.000   \n",
      "413         413   중구              예원학교   9  사립  주간    31   258  0.170  0.000   \n",
      "414         414  노원구           한국삼육중학교   9  사립  주간   105   102  0.908  0.019   \n",
      "\n",
      "     ...  외고_국제고  예고_체고  마이스터고    자사고    자공고   기타진학  취업     미상         위도  \\\n",
      "0    ...   0.007  0.000  0.011  0.227  0.000  0.004   0  0.000  37.594942   \n",
      "1    ...   0.035  0.008  0.000  0.043  0.004  0.031   0  0.000  37.577473   \n",
      "2    ...   0.012  0.003  0.006  0.090  0.003  0.009   0  0.003  37.491637   \n",
      "3    ...   0.013  0.019  0.019  0.065  0.000  0.019   0  0.000  37.480439   \n",
      "4    ...   0.010  0.005  0.000  0.282  0.000  0.010   0  0.000  37.510750   \n",
      "..   ...     ...    ...    ...    ...    ...    ...  ..    ...        ...   \n",
      "410  ...   0.000  0.940  0.000  0.000  0.000  0.000   0  0.000  37.476381   \n",
      "411  ...   0.000  0.875  0.000  0.000  0.000  0.000   0  0.018  37.446354   \n",
      "412  ...   0.000  0.861  0.000  0.000  0.000  0.000   0  0.036  37.549642   \n",
      "413  ...   0.000  0.751  0.000  0.000  0.000  0.048   0  0.031  37.566951   \n",
      "414  ...   0.024  0.000  0.010  0.010  0.000  0.029   0  0.000  37.641056   \n",
      "\n",
      "             경도  \n",
      "0    127.038909  \n",
      "1    127.003857  \n",
      "2    127.071744  \n",
      "3    127.062201  \n",
      "4    127.008900  \n",
      "..          ...  \n",
      "410  127.051355  \n",
      "411  126.906424  \n",
      "412  127.087737  \n",
      "413  126.971553  \n",
      "414  127.108344  \n",
      "\n",
      "[415 rows x 21 columns]\n"
     ]
    }
   ],
   "source": [
    "# 학교알리미 공개용 데이터 중에서 서울시 중학교 졸업생의 진로현황 데이터셋\n",
    "file_path = '2016_middle_shcool_graduates_report.xlsx'\n",
    "\n",
    "df = pd.read_excel(file_path, header=0)\n",
    "print(df)                          # [415 rows x 21 columns]"
   ]
  },
  {
   "cell_type": "code",
   "execution_count": 4,
   "id": "b6cacd02",
   "metadata": {},
   "outputs": [],
   "source": [
    "# IPython Console 디스플레이 옵션 설정하기\n",
    "pd.set_option('display.width', None)        # 출력화면의 너비\n",
    "pd.set_option('display.max_rows', 100)      # 출력할 행의 개수 한도\n",
    "pd.set_option('display.max_columns', 30)    # 출력할 열의 개수 한도\n",
    "pd.set_option('display.max_colwidth', 20)   # 출력할 열의 너비\n",
    "pd.set_option('display.unicode.east_asian_width', True)   # 유니코드 사용 너비 조정"
   ]
  },
  {
   "cell_type": "code",
   "execution_count": 5,
   "id": "0df2bc8e",
   "metadata": {},
   "outputs": [
    {
     "name": "stdout",
     "output_type": "stream",
     "text": [
      "['Unnamed: 0' '지역' '학교명' '코드' '유형' '주야' '남학생수' '여학생수' '일반고' '특성화고' '과학고'\n",
      " '외고_국제고' '예고_체고' '마이스터고' '자사고' '자공고' '기타진학' '취업' '미상' '위도' '경도']\n"
     ]
    }
   ],
   "source": [
    "# 데이터프레임의 열 이름 출력\n",
    "print(df.columns.values) "
   ]
  },
  {
   "cell_type": "markdown",
   "id": "43a21f64",
   "metadata": {},
   "source": [
    "### 데이터 탐색하기"
   ]
  },
  {
   "cell_type": "code",
   "execution_count": 6,
   "id": "6b86fac2",
   "metadata": {},
   "outputs": [
    {
     "name": "stdout",
     "output_type": "stream",
     "text": [
      "   Unnamed: 0    지역                               학교명  코드  유형  주야  \\\n",
      "0           0  성북구  서울대학교사범대학부설중학교.....       3  국립  주간   \n",
      "1           1  종로구  서울대학교사범대학부설여자중학교...     3  국립  주간   \n",
      "2           2  강남구           개원중학교                     3  공립  주간   \n",
      "3           3  강남구           개포중학교                     3  공립  주간   \n",
      "4           4  서초구           경원중학교                     3  공립  주간   \n",
      "\n",
      "   남학생수  여학생수  일반고  특성화고  과학고  외고_국제고  예고_체고  \\\n",
      "0       277         0   0.585     0.148   0.018        0.007      0.000   \n",
      "1         0       256   0.680     0.199   0.000        0.035      0.008   \n",
      "2       170       152   0.817     0.047   0.009        0.012      0.003   \n",
      "3        83        72   0.755     0.097   0.013        0.013      0.019   \n",
      "4       199       212   0.669     0.017   0.007        0.010      0.005   \n",
      "\n",
      "   마이스터고  자사고  자공고  기타진학  취업   미상       위도        경도  \n",
      "0       0.011   0.227   0.000     0.004     0  0.000  37.594942  127.038909  \n",
      "1       0.000   0.043   0.004     0.031     0  0.000  37.577473  127.003857  \n",
      "2       0.006   0.090   0.003     0.009     0  0.003  37.491637  127.071744  \n",
      "3       0.019   0.065   0.000     0.019     0  0.000  37.480439  127.062201  \n",
      "4       0.000   0.282   0.000     0.010     0  0.000  37.510750  127.008900  \n"
     ]
    }
   ],
   "source": [
    "# 데이터 살펴보기\n",
    "print(df.head())   "
   ]
  },
  {
   "cell_type": "code",
   "execution_count": 7,
   "id": "356db2f0",
   "metadata": {},
   "outputs": [
    {
     "name": "stdout",
     "output_type": "stream",
     "text": [
      "<class 'pandas.core.frame.DataFrame'>\n",
      "RangeIndex: 415 entries, 0 to 414\n",
      "Data columns (total 21 columns):\n",
      " #   Column      Non-Null Count  Dtype  \n",
      "---  ------      --------------  -----  \n",
      " 0   Unnamed: 0  415 non-null    int64  \n",
      " 1   지역          415 non-null    object \n",
      " 2   학교명         415 non-null    object \n",
      " 3   코드          415 non-null    int64  \n",
      " 4   유형          415 non-null    object \n",
      " 5   주야          415 non-null    object \n",
      " 6   남학생수        415 non-null    int64  \n",
      " 7   여학생수        415 non-null    int64  \n",
      " 8   일반고         415 non-null    float64\n",
      " 9   특성화고        415 non-null    float64\n",
      " 10  과학고         415 non-null    float64\n",
      " 11  외고_국제고      415 non-null    float64\n",
      " 12  예고_체고       415 non-null    float64\n",
      " 13  마이스터고       415 non-null    float64\n",
      " 14  자사고         415 non-null    float64\n",
      " 15  자공고         415 non-null    float64\n",
      " 16  기타진학        415 non-null    float64\n",
      " 17  취업          415 non-null    int64  \n",
      " 18  미상          415 non-null    float64\n",
      " 19  위도          415 non-null    float64\n",
      " 20  경도          415 non-null    float64\n",
      "dtypes: float64(12), int64(5), object(4)\n",
      "memory usage: 68.2+ KB\n",
      "None\n"
     ]
    }
   ],
   "source": [
    "# 데이터 자료형 확인\n",
    "print(df.info()) "
   ]
  },
  {
   "cell_type": "code",
   "execution_count": 8,
   "id": "08d76917",
   "metadata": {},
   "outputs": [
    {
     "name": "stdout",
     "output_type": "stream",
     "text": [
      "       Unnamed: 0        코드    남학생수    여학생수      일반고    특성화고  \\\n",
      "count  415.000000  415.000000  415.000000  415.000000  415.000000  415.000000   \n",
      "mean   207.000000    3.197590  126.532530  116.173494    0.623080    0.149684   \n",
      "std    119.944432    0.804272   79.217906   76.833082    0.211093    0.102977   \n",
      "min      0.000000    3.000000    0.000000    0.000000    0.000000    0.000000   \n",
      "25%    103.500000    3.000000   80.000000   71.500000    0.566500    0.065500   \n",
      "50%    207.000000    3.000000  129.000000  118.000000    0.681000    0.149000   \n",
      "75%    310.500000    3.000000  177.500000  161.500000    0.758000    0.224500   \n",
      "max    414.000000    9.000000  337.000000  422.000000    0.908000    0.477000   \n",
      "\n",
      "           과학고  외고_국제고   예고_체고  마이스터고      자사고  \\\n",
      "count  415.000000   415.000000  415.000000  415.000000  415.000000   \n",
      "mean     0.004378     0.013687    0.017393    0.005251    0.080971   \n",
      "std      0.006739     0.011548    0.092006    0.007557    0.079136   \n",
      "min      0.000000     0.000000    0.000000    0.000000    0.000000   \n",
      "25%      0.000000     0.006000    0.000000    0.000000    0.027000   \n",
      "50%      0.000000     0.012000    0.005000    0.003000    0.060000   \n",
      "75%      0.006000     0.019000    0.011000    0.007000    0.111500   \n",
      "max      0.055000     0.110000    0.940000    0.046000    0.485000   \n",
      "\n",
      "           자공고    기타진학   취업        미상        위도        경도  \n",
      "count  415.000000  415.000000  415.0  415.000000  415.000000  415.000000  \n",
      "mean     0.034296    0.069571    0.0    0.001670   37.491969  127.032792  \n",
      "std      0.080302    0.235630    0.0    0.003697    0.348926    0.265245  \n",
      "min      0.000000    0.000000    0.0    0.000000   34.979940  126.639561  \n",
      "25%      0.000000    0.000000    0.0    0.000000   37.501934  126.921758  \n",
      "50%      0.000000    0.007000    0.0    0.000000   37.547702  127.013579  \n",
      "75%      0.019000    0.015000    0.0    0.003000   37.590670  127.071265  \n",
      "max      0.531000    1.000000    0.0    0.036000   37.694777  129.106974  \n"
     ]
    }
   ],
   "source": [
    "# 데이터 통계 요약정보 확인\n",
    "print(df.describe())"
   ]
  },
  {
   "cell_type": "code",
   "execution_count": 9,
   "id": "54e971e1",
   "metadata": {},
   "outputs": [],
   "source": [
    "# 지도에 위치 표시\n",
    "mschool_map = folium.Map(location=[37.55,126.98], tiles='Stamen Terrain', \n",
    "                          zoom_start=12)"
   ]
  },
  {
   "cell_type": "code",
   "execution_count": 10,
   "id": "ecb13e58",
   "metadata": {},
   "outputs": [],
   "source": [
    "# 중학교 위치정보를 CircleMarker로 표시\n",
    "for name, lat, lng in zip(df.학교명, df.위도, df.경도):\n",
    "    folium.CircleMarker([lat, lng],\n",
    "                        radius=5,              # 원의 반지름\n",
    "                        color='brown',         # 원의 둘레 색상\n",
    "                        fill=True,\n",
    "                        fill_color='coral',    # 원을 채우는 색\n",
    "                        fill_opacity=0.7,      # 투명도    \n",
    "                        popup=name             # 팝업 기능(원형 마커를 클릭하면 학교명이 팝업으로 표시\n",
    "    ).add_to(mschool_map)"
   ]
  },
  {
   "cell_type": "code",
   "execution_count": 11,
   "id": "2c3b967d",
   "metadata": {},
   "outputs": [],
   "source": [
    "# 지도를 html 파일로 저장하기\n",
    "mschool_map.save('seoul_mschool_location.html')"
   ]
  },
  {
   "cell_type": "code",
   "execution_count": 12,
   "id": "9befb923",
   "metadata": {},
   "outputs": [
    {
     "data": {
      "text/plain": [
       "True"
      ]
     },
     "execution_count": 12,
     "metadata": {},
     "output_type": "execute_result"
    }
   ],
   "source": [
    "# 웹브라우저에 서울시내 중학교 위치 정보를 출력\n",
    "import webbrowser\n",
    "\n",
    "webbrowser.open('seoul_mschool_location.html')"
   ]
  },
  {
   "cell_type": "markdown",
   "id": "4fa5da01",
   "metadata": {},
   "source": [
    "### 데이터 전처리"
   ]
  },
  {
   "cell_type": "code",
   "execution_count": 13,
   "id": "bc06ccd5",
   "metadata": {},
   "outputs": [],
   "source": [
    "# 지역, 코드, 유형, 주야 열을 원핫인코딩 처리\n",
    "from sklearn import preprocessing    \n",
    "\n",
    "label_encoder = preprocessing.LabelEncoder()       # label encoder 생성\n",
    "# onehot_encoder = preprocessing.OneHotEncoder()   # one hot encoder 생성"
   ]
  },
  {
   "cell_type": "code",
   "execution_count": 14,
   "id": "1b1d8f6e",
   "metadata": {},
   "outputs": [],
   "source": [
    "# 모델이 인식할 수 없는 문자형 데이터를 원핫인코딩으로 처리하여 더미 변수에 저장\n",
    "onehot_location = label_encoder.fit_transform(df['지역'])  # 지역구 이름\n",
    "onehot_code = label_encoder.fit_transform(df['코드'])      # 3, 5, 9\n",
    "onehot_type = label_encoder.fit_transform(df['유형'])      # 국립, 공립, 사립\n",
    "onehot_day = label_encoder.fit_transform(df['주야'])       # 주간, 야간"
   ]
  },
  {
   "cell_type": "code",
   "execution_count": 15,
   "id": "738fa60d",
   "metadata": {},
   "outputs": [],
   "source": [
    "# 원핫인코딩된 결과를 새로운 열(변수)에 할당\n",
    "df['location'] = onehot_location        # 지역\n",
    "df['code'] = onehot_code                # 코드\n",
    "df['type'] = onehot_type                # 유형\n",
    "df['day'] = onehot_day                  # 주야"
   ]
  },
  {
   "cell_type": "code",
   "execution_count": 16,
   "id": "b6a7e562",
   "metadata": {},
   "outputs": [
    {
     "name": "stdout",
     "output_type": "stream",
     "text": [
      "   Unnamed: 0    지역                               학교명  코드  유형  주야  \\\n",
      "0           0  성북구  서울대학교사범대학부설중학교.....       3  국립  주간   \n",
      "1           1  종로구  서울대학교사범대학부설여자중학교...     3  국립  주간   \n",
      "2           2  강남구           개원중학교                     3  공립  주간   \n",
      "3           3  강남구           개포중학교                     3  공립  주간   \n",
      "4           4  서초구           경원중학교                     3  공립  주간   \n",
      "\n",
      "   남학생수  여학생수  일반고  특성화고  과학고  외고_국제고  예고_체고  \\\n",
      "0       277         0   0.585     0.148   0.018        0.007      0.000   \n",
      "1         0       256   0.680     0.199   0.000        0.035      0.008   \n",
      "2       170       152   0.817     0.047   0.009        0.012      0.003   \n",
      "3        83        72   0.755     0.097   0.013        0.013      0.019   \n",
      "4       199       212   0.669     0.017   0.007        0.010      0.005   \n",
      "\n",
      "   마이스터고  자사고  자공고  기타진학  취업   미상       위도        경도  \\\n",
      "0       0.011   0.227   0.000     0.004     0  0.000  37.594942  127.038909   \n",
      "1       0.000   0.043   0.004     0.031     0  0.000  37.577473  127.003857   \n",
      "2       0.006   0.090   0.003     0.009     0  0.003  37.491637  127.071744   \n",
      "3       0.019   0.065   0.000     0.019     0  0.000  37.480439  127.062201   \n",
      "4       0.000   0.282   0.000     0.010     0  0.000  37.510750  127.008900   \n",
      "\n",
      "   location  code  type  day  \n",
      "0        16     0     1    0  \n",
      "1        22     0     1    0  \n",
      "2         0     0     0    0  \n",
      "3         0     0     0    0  \n",
      "4        14     0     0    0  \n"
     ]
    }
   ],
   "source": [
    "# 지역, 코드, 유형, 주야 열을 원핫인코딩 처리 결과 확인\n",
    "print(df.head())"
   ]
  },
  {
   "cell_type": "markdown",
   "id": "333ec49b",
   "metadata": {},
   "source": [
    "### DBSCAN 군집 모델"
   ]
  },
  {
   "cell_type": "code",
   "execution_count": 17,
   "id": "5b6e44a4",
   "metadata": {},
   "outputs": [],
   "source": [
    "# sklearn 라이브러리에서 cluster 군집 모델 가져오기\n",
    "from sklearn import cluster"
   ]
  },
  {
   "cell_type": "markdown",
   "id": "114eea6d",
   "metadata": {},
   "source": [
    "### 분석1. 과학고, 외고국제고, 자사고 진학률로 군집"
   ]
  },
  {
   "cell_type": "code",
   "execution_count": 48,
   "id": "c253ca44",
   "metadata": {},
   "outputs": [
    {
     "name": "stdout",
     "output_type": "stream",
     "text": [
      "분석1. 과학고, 외고국제고, 자사고 진학률로 군집\n",
      "   과학고  외고_국제고  자사고\n",
      "0   0.018        0.007   0.227\n",
      "1   0.000        0.035   0.043\n",
      "2   0.009        0.012   0.090\n",
      "3   0.013        0.013   0.065\n",
      "4   0.007        0.010   0.282\n"
     ]
    }
   ],
   "source": [
    "# 분석에 사용할 속성을 선택 (과학고, 외고국제고, 자사고 진학률)\n",
    "print('분석1. 과학고, 외고국제고, 자사고 진학률로 군집')\n",
    "columns_list = [10, 11, 14]             # 각 컬럼의 인덱스 번호\n",
    "x = df.iloc[:, columns_list]\n",
    "print(x[:5])                            # 처음부터 5개의 데이터 구해서 출력"
   ]
  },
  {
   "cell_type": "code",
   "execution_count": 19,
   "id": "59707ece",
   "metadata": {},
   "outputs": [],
   "source": [
    "# 설명 변수 데이터를 정규화\n",
    "x = preprocessing.StandardScaler().fit(x).transform(x)"
   ]
  },
  {
   "cell_type": "code",
   "execution_count": 20,
   "id": "9726b362",
   "metadata": {},
   "outputs": [],
   "source": [
    "# DBSCAN 모델 객체 생성\n",
    "# 밀도 계산의 기준이 되는 반지름 R(eps=0.2)과 최소 포인트 개수 M(min_samples=5) 설정\n",
    "dbm = cluster.DBSCAN(eps=0.2, min_samples=5)"
   ]
  },
  {
   "cell_type": "code",
   "execution_count": 21,
   "id": "e549258a",
   "metadata": {},
   "outputs": [
    {
     "data": {
      "text/plain": [
       "DBSCAN(eps=0.2)"
      ]
     },
     "execution_count": 21,
     "metadata": {},
     "output_type": "execute_result"
    }
   ],
   "source": [
    "# DBSCAN 모델 학습\n",
    "dbm.fit(x)"
   ]
  },
  {
   "cell_type": "code",
   "execution_count": 22,
   "id": "67dc54e5",
   "metadata": {},
   "outputs": [
    {
     "name": "stdout",
     "output_type": "stream",
     "text": [
      "[-1 -1 -1 -1 -1 -1 -1 -1 -1 -1 -1 -1 -1  0 -1 -1 -1 -1 -1 -1  2 -1  0 -1\n",
      " -1 -1 -1 -1  0 -1 -1 -1 -1 -1  0  3 -1 -1 -1 -1 -1 -1 -1  0 -1 -1  1  0\n",
      " -1 -1 -1  0 -1 -1 -1 -1  0 -1  0  0 -1 -1  0 -1 -1 -1  0  0 -1 -1  0 -1\n",
      " -1 -1  0 -1 -1 -1  0  2  0  0  0  0  0 -1 -1 -1  0 -1  0 -1 -1  0 -1  0\n",
      " -1  0  0 -1 -1 -1 -1  1  0 -1  0  0 -1 -1 -1  0 -1 -1 -1 -1 -1  0  1 -1\n",
      " -1  0  2  0 -1 -1  1 -1 -1 -1  0  0  0 -1 -1  0 -1 -1 -1  0  0 -1 -1 -1\n",
      " -1  0 -1 -1 -1  0 -1 -1 -1  0 -1  0  0 -1 -1 -1 -1 -1  0 -1  0  0 -1 -1\n",
      " -1 -1 -1  0 -1 -1 -1  1  0  3  1 -1  0  0 -1  0 -1 -1  0  0  2 -1 -1  3\n",
      "  0  0 -1 -1 -1 -1  0 -1  0  0 -1  0  0  0 -1 -1  0 -1 -1 -1 -1 -1  2  0\n",
      " -1 -1 -1 -1 -1 -1 -1 -1 -1 -1 -1 -1 -1 -1  0 -1 -1 -1  0 -1 -1 -1 -1 -1\n",
      " -1 -1 -1 -1 -1 -1 -1 -1 -1  0 -1 -1 -1  0  0 -1 -1  0 -1  3  0  2 -1 -1\n",
      " -1 -1  0 -1 -1 -1  0 -1  0  0 -1 -1 -1 -1 -1  1 -1  0  1 -1  0  0  1 -1\n",
      "  2 -1  0 -1 -1 -1 -1  0 -1 -1  1  0 -1  0 -1 -1  0  3  0 -1 -1 -1  2 -1\n",
      " -1 -1 -1  0  0  0  1 -1 -1 -1 -1 -1 -1 -1 -1  0 -1  0 -1  0 -1 -1  0  0\n",
      " -1 -1 -1  0 -1  0 -1 -1  0 -1 -1 -1  0  1 -1 -1 -1  0  1  1  1 -1 -1 -1\n",
      " -1 -1 -1 -1 -1 -1 -1 -1 -1 -1 -1 -1 -1 -1 -1 -1 -1  0 -1 -1 -1  0 -1  0\n",
      "  1  1  1  1  1  1  1  1  1  1  1  1  1  1  1  1  1  1  1  1  1  1  1  1\n",
      "  1  1  1  1  1  1  0]\n"
     ]
    }
   ],
   "source": [
    "# 예측 (군집) 결과를 출력할 열(속성)의 값 구하기\n",
    "# 모델의 labels_ 속성으로 확인하면 5개의 클러스터 값 ( -1, 0, 1, 2, 3 ) 으로 나타남\n",
    "cluster_label = dbm.labels_\n",
    "print(cluster_label)                            # -1, 0, 1, 2, 3"
   ]
  },
  {
   "cell_type": "code",
   "execution_count": 23,
   "id": "35ff8ea3",
   "metadata": {},
   "outputs": [
    {
     "name": "stdout",
     "output_type": "stream",
     "text": [
      "   Unnamed: 0    지역                               학교명  코드  유형  주야  \\\n",
      "0           0  성북구  서울대학교사범대학부설중학교.....       3  국립  주간   \n",
      "1           1  종로구  서울대학교사범대학부설여자중학교...     3  국립  주간   \n",
      "2           2  강남구           개원중학교                     3  공립  주간   \n",
      "3           3  강남구           개포중학교                     3  공립  주간   \n",
      "4           4  서초구           경원중학교                     3  공립  주간   \n",
      "\n",
      "   남학생수  여학생수  일반고  특성화고  과학고  외고_국제고  예고_체고  \\\n",
      "0       277         0   0.585     0.148   0.018        0.007      0.000   \n",
      "1         0       256   0.680     0.199   0.000        0.035      0.008   \n",
      "2       170       152   0.817     0.047   0.009        0.012      0.003   \n",
      "3        83        72   0.755     0.097   0.013        0.013      0.019   \n",
      "4       199       212   0.669     0.017   0.007        0.010      0.005   \n",
      "\n",
      "   마이스터고  자사고  자공고  기타진학  취업   미상       위도        경도  \\\n",
      "0       0.011   0.227   0.000     0.004     0  0.000  37.594942  127.038909   \n",
      "1       0.000   0.043   0.004     0.031     0  0.000  37.577473  127.003857   \n",
      "2       0.006   0.090   0.003     0.009     0  0.003  37.491637  127.071744   \n",
      "3       0.019   0.065   0.000     0.019     0  0.000  37.480439  127.062201   \n",
      "4       0.000   0.282   0.000     0.010     0  0.000  37.510750  127.008900   \n",
      "\n",
      "   location  code  type  day  Cluster  \n",
      "0        16     0     1    0       -1  \n",
      "1        22     0     1    0       -1  \n",
      "2         0     0     0    0       -1  \n",
      "3         0     0     0    0       -1  \n",
      "4        14     0     0    0       -1  \n"
     ]
    }
   ],
   "source": [
    "# 예측(군집) 결과를 저장할 열(Cluster)을 데이터프레임에 추가\n",
    "df['Cluster'] = cluster_label\n",
    "print(df.head())                                # Cluster 열 추가됨"
   ]
  },
  {
   "cell_type": "code",
   "execution_count": 24,
   "id": "90661b24",
   "metadata": {},
   "outputs": [
    {
     "name": "stdout",
     "output_type": "stream",
     "text": [
      "* key : -1\n",
      "* number : 255\n",
      "     지역                               학교명  유형  과학고  외고_국제고  \\\n",
      "0  성북구  서울대학교사범대학부설중학교.....    국립   0.018        0.007   \n",
      "1  종로구  서울대학교사범대학부설여자중학교...  국립   0.000        0.035   \n",
      "2  강남구           개원중학교                  공립   0.009        0.012   \n",
      "3  강남구           개포중학교                  공립   0.013        0.013   \n",
      "4  서초구           경원중학교                  공립   0.007        0.010   \n",
      "\n",
      "   자사고  \n",
      "0   0.227  \n",
      "1   0.043  \n",
      "2   0.090  \n",
      "3   0.065  \n",
      "4   0.282  \n",
      "* key : 0\n",
      "* number : 102\n",
      "      지역          학교명  유형  과학고  외고_국제고  자사고\n",
      "13  서초구  동덕여자중학교  사립     0.0        0.022   0.038\n",
      "22  강남구      수서중학교  공립     0.0        0.019   0.044\n",
      "28  서초구      언남중학교  공립     0.0        0.015   0.050\n",
      "34  강남구      은성중학교  사립     0.0        0.016   0.065\n",
      "43  송파구      거원중학교  공립     0.0        0.021   0.054\n",
      "* key : 1\n",
      "* number : 45\n",
      "         지역          학교명  유형  과학고  외고_국제고  자사고\n",
      "46     강동구      동신중학교  사립     0.0          0.0   0.044\n",
      "103    양천구      신원중학교  공립     0.0          0.0   0.006\n",
      "118    구로구      개봉중학교  공립     0.0          0.0   0.012\n",
      "126  영등포구      대림중학교  공립     0.0          0.0   0.050\n",
      "175    중랑구  혜원여자중학교  사립     0.0          0.0   0.004\n",
      "* key : 2\n",
      "* number : 8\n",
      "       지역      학교명  유형  과학고  외고_국제고  자사고\n",
      "20   서초구  서초중학교  공립   0.003        0.013   0.085\n",
      "79   강동구  한영중학교  사립   0.004        0.011   0.077\n",
      "122  구로구  구일중학교  공립   0.004        0.012   0.079\n",
      "188  동작구  대방중학교  공립   0.003        0.015   0.076\n",
      "214  도봉구  도봉중학교  공립   0.004        0.011   0.072\n",
      "* key : 3\n",
      "* number : 5\n",
      "         지역      학교명  유형  과학고  외고_국제고  자사고\n",
      "35     서초구  이수중학교  공립     0.0        0.004   0.100\n",
      "177  동대문구  휘경중학교  공립     0.0        0.004   0.094\n",
      "191    동작구  문창중학교  공립     0.0        0.004   0.084\n",
      "259    마포구  성사중학교  공립     0.0        0.004   0.078\n",
      "305    강북구  강북중학교  공립     0.0        0.004   0.088\n"
     ]
    }
   ],
   "source": [
    "# 클러스터 값으로 그룹화하고, 그룹별로 내용 출력 (첫 5행만 출력)\n",
    "grouped_cols = [1, 2, 4] + columns_list         # 1:지역명, 2:학교명, 4:유형\n",
    "grouped = df.groupby('Cluster')\n",
    "for key, group in grouped:\n",
    "    print('* key :', key)                       # 클러스터  값: -1, 0, 1, 2, 3\n",
    "    print('* number :', len(group))             # 각 클러스터 속한 학교수\n",
    "    print(group.iloc[:, grouped_cols].head())   # 5개의 데이터 출력"
   ]
  },
  {
   "cell_type": "code",
   "execution_count": 25,
   "id": "bc8f8495",
   "metadata": {},
   "outputs": [],
   "source": [
    "# 그래프로 표현 - 시각화 ( 각 Cluster 번호별로 보여줄 색깔 정의 )\n",
    "colors = {-1:'gray', 0:'coral', 1:'blue', 2:'green', 3:'red', 4:'purple', \n",
    "          5:'orange', 6:'brown', 7:'brick', 8:'yellow', 9:'magenta', 10:'cyan'}\n",
    "\n",
    "cluster_map = folium.Map(location=[37.55,126.98], tiles='Stamen Terrain', \n",
    "                         zoom_start=12)"
   ]
  },
  {
   "cell_type": "code",
   "execution_count": 26,
   "id": "ec9932fb",
   "metadata": {},
   "outputs": [],
   "source": [
    "for name, lat, lng, clus in zip(df.학교명, df.위도, df.경도, df.Cluster):  \n",
    "    folium.CircleMarker([lat, lng],\n",
    "                        radius=5,                   # 원의 반지름\n",
    "                        color=colors[clus],         # 원의 둘레 색상\n",
    "                        fill=True,\n",
    "                        fill_color=colors[clus],    # 원을 채우는 색\n",
    "                        fill_opacity=0.7,           # 투명도    \n",
    "                        popup=name\n",
    "    ).add_to(cluster_map)  "
   ]
  },
  {
   "cell_type": "code",
   "execution_count": 27,
   "id": "d308a85c",
   "metadata": {},
   "outputs": [],
   "source": [
    "# 지도를 html 파일로 저장하기\n",
    "cluster_map.save('seoul_mschool_cluster.html')"
   ]
  },
  {
   "cell_type": "code",
   "execution_count": 28,
   "id": "15d64827",
   "metadata": {},
   "outputs": [
    {
     "data": {
      "text/plain": [
       "True"
      ]
     },
     "execution_count": 28,
     "metadata": {},
     "output_type": "execute_result"
    }
   ],
   "source": [
    "# 웹브라우저에 서울시내 중학교 위치 정보를 출력\n",
    "import webbrowser\n",
    "\n",
    "webbrowser.open('seoul_mschool_cluster.html')"
   ]
  },
  {
   "cell_type": "markdown",
   "id": "3a7fc260",
   "metadata": {},
   "source": [
    "### 분석2. 과학고, 외고_국제고, 자사고 진학률, 유형(국립,공립,사립)으로 군집"
   ]
  },
  {
   "cell_type": "code",
   "execution_count": 29,
   "id": "71c4daa3",
   "metadata": {},
   "outputs": [
    {
     "name": "stdout",
     "output_type": "stream",
     "text": [
      "분석2. 과학고, 외고_국제고, 자사고 진학률, 유형(국립,공립,사립)으로 군집\n",
      "   과학고  외고_국제고  자사고  type\n",
      "0   0.018        0.007   0.227     1\n",
      "1   0.000        0.035   0.043     1\n",
      "2   0.009        0.012   0.090     0\n",
      "3   0.013        0.013   0.065     0\n",
      "4   0.007        0.010   0.282     0\n"
     ]
    }
   ],
   "source": [
    "# x2 데이터셋에 대하여 위의 과정을 반복(과학고, 외고_국제고, 자사고 진학률, 유형)\n",
    "print('분석2. 과학고, 외고_국제고, 자사고 진학률, 유형(국립,공립,사립)으로 군집')\n",
    "columns_list2 = [10, 11, 14, 23]\n",
    "x2 = df.iloc[:, columns_list2]\n",
    "print(x2[:5])"
   ]
  },
  {
   "cell_type": "code",
   "execution_count": 30,
   "id": "0817eb9c",
   "metadata": {},
   "outputs": [],
   "source": [
    "# 설명 변수 데이터를 정규화\n",
    "x2 = preprocessing.StandardScaler().fit(x2).transform(x2)"
   ]
  },
  {
   "cell_type": "code",
   "execution_count": 31,
   "id": "c2077f76",
   "metadata": {},
   "outputs": [],
   "source": [
    "# DBSCAN 모델 객체 생성\n",
    "# 밀도 계산의 기준이 되는 반지름 R(eps=0.2)과 최소 포인트 개수 M(min_samples=5) 설정\n",
    "dbm2 = cluster.DBSCAN(eps=0.2, min_samples=5)"
   ]
  },
  {
   "cell_type": "code",
   "execution_count": 32,
   "id": "d304255e",
   "metadata": {},
   "outputs": [
    {
     "data": {
      "text/plain": [
       "DBSCAN(eps=0.2)"
      ]
     },
     "execution_count": 32,
     "metadata": {},
     "output_type": "execute_result"
    }
   ],
   "source": [
    "# DBSCAN 모델 학습\n",
    "dbm2.fit(x2)"
   ]
  },
  {
   "cell_type": "code",
   "execution_count": 33,
   "id": "3095ec04",
   "metadata": {},
   "outputs": [],
   "source": [
    "# 예측(군집) 결과를 저장할 열(Cluster2)을 데이터프레임에 추가\n",
    "df['Cluster2'] = dbm2.labels_                       # Cluster2 열 추가됨"
   ]
  },
  {
   "cell_type": "code",
   "execution_count": 34,
   "id": "1fa7e833",
   "metadata": {},
   "outputs": [
    {
     "name": "stdout",
     "output_type": "stream",
     "text": [
      "* key : -1\n",
      "* number : 281\n",
      "     지역                               학교명  유형  과학고  외고_국제고  \\\n",
      "0  성북구  서울대학교사범대학부설중학교.....    국립   0.018        0.007   \n",
      "1  종로구  서울대학교사범대학부설여자중학교...  국립   0.000        0.035   \n",
      "2  강남구           개원중학교                  공립   0.009        0.012   \n",
      "3  강남구           개포중학교                  공립   0.013        0.013   \n",
      "4  서초구           경원중학교                  공립   0.007        0.010   \n",
      "\n",
      "   자사고  type  \n",
      "0   0.227     1  \n",
      "1   0.043     1  \n",
      "2   0.090     0  \n",
      "3   0.065     0  \n",
      "4   0.282     0  \n",
      "* key : 0\n",
      "* number : 8\n",
      "       지역      학교명  유형  과학고  외고_국제고  자사고  type\n",
      "22   강남구  수서중학교  공립     0.0        0.019   0.044     0\n",
      "43   송파구  거원중학교  공립     0.0        0.021   0.054     0\n",
      "51   송파구  방이중학교  공립     0.0        0.021   0.068     0\n",
      "93   강서구  방원중학교  공립     0.0        0.019   0.057     0\n",
      "164  중랑구  원묵중학교  공립     0.0        0.020   0.062     0\n",
      "* key : 1\n",
      "* number : 59\n",
      "      지역      학교명  유형  과학고  외고_국제고  자사고  type\n",
      "28  서초구  언남중학교  공립     0.0        0.015   0.050     0\n",
      "47  강동구  둔촌중학교  공립     0.0        0.010   0.026     0\n",
      "58  강동구  성내중학교  공립     0.0        0.013   0.026     0\n",
      "62  강동구  신명중학교  공립     0.0        0.009   0.031     0\n",
      "67  송파구  오금중학교  공립     0.0        0.015   0.072     0\n",
      "* key : 2\n",
      "* number : 6\n",
      "         지역          학교명  유형  과학고  외고_국제고  자사고  type\n",
      "46     강동구      동신중학교  사립     0.0          0.0   0.044     2\n",
      "279  서대문구  중앙여자중학교  사립     0.0          0.0   0.036     2\n",
      "282  서대문구      한성중학교  사립     0.0          0.0   0.042     2\n",
      "349      중구      장충중학교  사립     0.0          0.0   0.038     2\n",
      "354      중구      한양중학교  사립     0.0          0.0   0.034     2\n",
      "* key : 3\n",
      "* number : 11\n",
      "       지역          학교명  유형  과학고  외고_국제고  자사고  type\n",
      "103  양천구      신원중학교  공립     0.0          0.0   0.006     0\n",
      "118  구로구      개봉중학교  공립     0.0          0.0   0.012     0\n",
      "356  송파구  서울체육중학교  공립     0.0          0.0   0.000     0\n",
      "391  광진구    서울광진학교  공립     0.0          0.0   0.000     0\n",
      "396  관악구    서울정문학교  공립     0.0          0.0   0.000     0\n",
      "* key : 4\n",
      "* number : 7\n",
      "       지역      학교명  유형  과학고  외고_국제고  자사고  type\n",
      "20   서초구  서초중학교  공립   0.003        0.013   0.085     0\n",
      "122  구로구  구일중학교  공립   0.004        0.012   0.079     0\n",
      "188  동작구  대방중학교  공립   0.003        0.015   0.076     0\n",
      "214  도봉구  도봉중학교  공립   0.004        0.011   0.072     0\n",
      "261  마포구  성서중학교  공립   0.004        0.016   0.067     0\n",
      "* key : 5\n",
      "* number : 18\n",
      "       지역          학교명  유형  과학고  외고_국제고  자사고  type\n",
      "175  중랑구  혜원여자중학교  사립     0.0          0.0   0.004     2\n",
      "387  강서구        교남학교  사립     0.0          0.0   0.000     2\n",
      "388  서초구      다니엘학교  사립     0.0          0.0   0.000     2\n",
      "389  강남구        밀알학교  사립     0.0          0.0   0.000     2\n",
      "390  관악구        새롬학교  사립     0.0          0.0   0.000     2\n",
      "* key : 6\n",
      "* number : 5\n",
      "         지역      학교명  유형  과학고  외고_국제고  자사고  type\n",
      "126  영등포구  대림중학교  공립     0.0          0.0   0.050     0\n",
      "178    동작구  강남중학교  공립     0.0          0.0   0.028     0\n",
      "286    성동구  경수중학교  공립     0.0          0.0   0.043     0\n",
      "298    성동구  성원중학교  공립     0.0          0.0   0.042     0\n",
      "318    강북구  수유중학교  공립     0.0          0.0   0.052     0\n",
      "* key : 7\n",
      "* number : 5\n",
      "         지역      학교명  유형  과학고  외고_국제고  자사고  type\n",
      "35     서초구  이수중학교  공립     0.0        0.004   0.100     0\n",
      "177  동대문구  휘경중학교  공립     0.0        0.004   0.094     0\n",
      "191    동작구  문창중학교  공립     0.0        0.004   0.084     0\n",
      "259    마포구  성사중학교  공립     0.0        0.004   0.078     0\n",
      "305    강북구  강북중학교  공립     0.0        0.004   0.088     0\n",
      "* key : 8\n",
      "* number : 5\n",
      "       지역              학교명  유형  과학고  외고_국제고  자사고  type\n",
      "198  관악구  서울문영여자중학교  사립     0.0        0.021   0.014     2\n",
      "316  강북구      성암여자중학교  사립     0.0        0.020   0.008     2\n",
      "327  성북구      한성여자중학교  사립     0.0        0.022   0.011     2\n",
      "334  종로구      덕성여자중학교  사립     0.0        0.023   0.023     2\n",
      "414  노원구      한국삼육중학교  사립     0.0        0.024   0.010     2\n",
      "* key : 9\n",
      "* number : 5\n",
      "       지역          학교명  유형  과학고  외고_국제고  자사고  type\n",
      "66   송파구  영파여자중학교  사립     0.0        0.010   0.010     2\n",
      "162  중랑구  영란여자중학교  사립     0.0        0.011   0.011     2\n",
      "234  도봉구  정의여자중학교  사립     0.0        0.010   0.005     2\n",
      "339  용산구  보성여자중학교  사립     0.0        0.007   0.013     2\n",
      "344  용산구  신광여자중학교  사립     0.0        0.009   0.017     2\n",
      "* key : 10\n",
      "* number : 5\n",
      "       지역              학교명  유형  과학고  외고_국제고  자사고  type\n",
      "384  종로구          서울농학교  국립     0.0          0.0     0.0     1\n",
      "385  마포구        한국우진학교  국립     0.0          0.0     0.0     1\n",
      "386  종로구          서울맹학교  국립     0.0          0.0     0.0     1\n",
      "410  강남구      국립국악중학교  국립     0.0          0.0     0.0     1\n",
      "411  금천구  국립전통예술중학교  국립     0.0          0.0     0.0     1\n"
     ]
    }
   ],
   "source": [
    "# 클러스터 값으로 그룹화하고, 그룹별로 내용 출력 (첫 5행만 출력)\n",
    "grouped2_cols = [1, 2, 4] + columns_list2           # 1:지역명, 2:학교명, 4:유형\n",
    "grouped2 = df.groupby('Cluster2')\n",
    "for key, group in grouped2:\n",
    "    print('* key :', key)                          # 클러스터  값: -1, 0 ~ 10\n",
    "    print('* number :', len(group))                # 각 클러스터 속한 학교수\n",
    "    print(group.iloc[:, grouped2_cols].head())     # 5개의 데이터 출력"
   ]
  },
  {
   "cell_type": "code",
   "execution_count": 35,
   "id": "fe951e20",
   "metadata": {},
   "outputs": [],
   "source": [
    "cluster2_map = folium.Map(location=[37.55,126.98], tiles='Stamen Terrain', \n",
    "                          zoom_start=12)\n",
    "\n",
    "for name, lat, lng, clus in zip(df.학교명, df.위도, df.경도, df.Cluster2):  \n",
    "    folium.CircleMarker([lat, lng],\n",
    "                        radius=5,                   # 원의 반지름\n",
    "                        color=colors[clus],         # 원의 둘레 색상\n",
    "                        fill=True,\n",
    "                        fill_color=colors[clus],    # 원을 채우는 색\n",
    "                        fill_opacity=0.7,           # 투명도    \n",
    "                        popup=name\n",
    "    ).add_to(cluster2_map)"
   ]
  },
  {
   "cell_type": "code",
   "execution_count": 36,
   "id": "eaa081dd",
   "metadata": {},
   "outputs": [],
   "source": [
    "# 지도를 html 파일로 저장하기\n",
    "cluster2_map.save('seoul_mschool_cluster2.html')"
   ]
  },
  {
   "cell_type": "code",
   "execution_count": 37,
   "id": "d4b1c274",
   "metadata": {},
   "outputs": [
    {
     "data": {
      "text/plain": [
       "True"
      ]
     },
     "execution_count": 37,
     "metadata": {},
     "output_type": "execute_result"
    }
   ],
   "source": [
    "# 웹브라우저에 서울시내 중학교 위치 정보를 출력\n",
    "import webbrowser\n",
    "\n",
    "webbrowser.open('seoul_mschool_cluster2.html')"
   ]
  },
  {
   "cell_type": "markdown",
   "id": "0a8270a4",
   "metadata": {},
   "source": [
    "### 분석3. 과학고, 외고_국제고 군집"
   ]
  },
  {
   "cell_type": "code",
   "execution_count": 38,
   "id": "f3edc905",
   "metadata": {},
   "outputs": [
    {
     "name": "stdout",
     "output_type": "stream",
     "text": [
      "분석3. 과학고, 외고_국제고 군집\n",
      "   과학고  외고_국제고\n",
      "0   0.018        0.007\n",
      "1   0.000        0.035\n",
      "2   0.009        0.012\n",
      "3   0.013        0.013\n",
      "4   0.007        0.010\n"
     ]
    }
   ],
   "source": [
    "# x3 데이터셋에 대하여 위의 과정을 반복(과학고, 외고_국제고)\n",
    "print('분석3. 과학고, 외고_국제고 군집')\n",
    "columns_list3 = [10, 11]\n",
    "x3 = df.iloc[:, columns_list3]\n",
    "print(x3[:5])"
   ]
  },
  {
   "cell_type": "code",
   "execution_count": 39,
   "id": "8e58ba93",
   "metadata": {},
   "outputs": [],
   "source": [
    "# 설명 변수 데이터를 정규화\n",
    "x3 = preprocessing.StandardScaler().fit(x3).transform(x3)"
   ]
  },
  {
   "cell_type": "code",
   "execution_count": 40,
   "id": "15c925ac",
   "metadata": {},
   "outputs": [],
   "source": [
    "# DBSCAN 모델 객체 생성\n",
    "# 밀도 계산의 기준이 되는 반지름 R(eps=0.2)과 최소 포인트 개수 M(min_samples=5) 설정\n",
    "dbm3 = cluster.DBSCAN(eps=0.2, min_samples=5)"
   ]
  },
  {
   "cell_type": "code",
   "execution_count": 41,
   "id": "79f43327",
   "metadata": {},
   "outputs": [
    {
     "data": {
      "text/plain": [
       "DBSCAN(eps=0.2)"
      ]
     },
     "execution_count": 41,
     "metadata": {},
     "output_type": "execute_result"
    }
   ],
   "source": [
    "# DBSCAN 모델 학습\n",
    "dbm3.fit(x3)"
   ]
  },
  {
   "cell_type": "code",
   "execution_count": 42,
   "id": "c605d4e6",
   "metadata": {},
   "outputs": [],
   "source": [
    "# 예측(군집) 결과를 저장할 열(Cluster3)을 데이터프레임에 추가\n",
    "df['Cluster3'] = dbm3.labels_                       # Cluster3 열 추가됨"
   ]
  },
  {
   "cell_type": "code",
   "execution_count": 43,
   "id": "477ef414",
   "metadata": {},
   "outputs": [
    {
     "name": "stdout",
     "output_type": "stream",
     "text": [
      "* key : -1\n",
      "* number : 61\n",
      "     지역                             학교명  유형  과학고  외고_국제고\n",
      "0  성북구  서울대학교사범대학부설중학교.....  국립   0.018        0.007\n",
      "3  강남구           개포중학교                공립   0.013        0.013\n",
      "6  강남구         압구정중학교                공립   0.015        0.036\n",
      "7  강남구  단국대학교사범대학부속중학교.....  사립   0.032        0.005\n",
      "8  강남구           대명중학교                공립   0.013        0.029\n",
      "* key : 0\n",
      "* number : 160\n",
      "      지역                               학교명  유형  과학고  외고_국제고\n",
      "1   종로구  서울대학교사범대학부설여자중학교...  국립     0.0        0.035\n",
      "13  서초구       동덕여자중학교                  사립     0.0        0.022\n",
      "22  강남구           수서중학교                  공립     0.0        0.019\n",
      "28  서초구           언남중학교                  공립     0.0        0.015\n",
      "29  강남구           언북중학교                  공립     0.0        0.007\n",
      "* key : 1\n",
      "* number : 111\n",
      "      지역      학교명  유형  과학고  외고_국제고\n",
      "2   강남구  개원중학교  공립   0.009        0.012\n",
      "4   서초구  경원중학교  공립   0.007        0.010\n",
      "5   강남구  구룡중학교  공립   0.007        0.007\n",
      "11  강남구  대치중학교  공립   0.007        0.024\n",
      "14  서초구  반포중학교  공립   0.010        0.013\n",
      "* key : 2\n",
      "* number : 50\n",
      "         지역      학교명  유형  과학고  외고_국제고\n",
      "46     강동구  동신중학교  사립     0.0          0.0\n",
      "103    양천구  신원중학교  공립     0.0          0.0\n",
      "118    구로구  개봉중학교  공립     0.0          0.0\n",
      "126  영등포구  대림중학교  공립     0.0          0.0\n",
      "160  동대문구  숭인중학교  공립     0.0          0.0\n",
      "* key : 3\n",
      "* number : 11\n",
      "         지역      학교명  유형  과학고  외고_국제고\n",
      "100    양천구  신남중학교  공립   0.007          0.0\n",
      "115    강서구  화곡중학교  사립   0.008          0.0\n",
      "151  동대문구  대광중학교  사립   0.005          0.0\n",
      "194    관악구  봉원중학교  공립   0.004          0.0\n",
      "209    노원구  광운중학교  사립   0.005          0.0\n",
      "* key : 4\n",
      "* number : 12\n",
      "      지역          학교명  유형  과학고  외고_국제고\n",
      "9   강남구      대왕중학교  공립   0.006        0.028\n",
      "27  강남구      신사중학교  공립   0.006        0.032\n",
      "69  송파구      오주중학교  공립   0.003        0.028\n",
      "72  송파구      잠실중학교  공립   0.007        0.030\n",
      "96  양천구  봉영여자중학교  사립   0.006        0.028\n",
      "* key : 5\n",
      "* number : 5\n",
      "       지역      학교명  유형  과학고  외고_국제고\n",
      "16   강남구  봉은중학교  공립   0.010        0.010\n",
      "85   강서구  덕원중학교  사립   0.010        0.010\n",
      "179  동작구  강현중학교  공립   0.011        0.011\n",
      "262  마포구  숭문중학교  사립   0.010        0.010\n",
      "366  마포구  상암중학교  공립   0.012        0.012\n",
      "* key : 6\n",
      "* number : 5\n",
      "         지역      학교명  유형  과학고  외고_국제고\n",
      "89     강서구  마포중학교  사립   0.015        0.010\n",
      "112    강서구  염창중학교  공립   0.015        0.009\n",
      "265  서대문구  신연중학교  공립   0.016        0.011\n",
      "287    광진구  광남중학교  공립   0.016        0.010\n",
      "359    관악구  구암중학교  공립   0.017        0.011\n"
     ]
    }
   ],
   "source": [
    "# 클러스터 값으로 그룹화하고, 그룹별로 내용 출력 (첫 5행만 출력)\n",
    "grouped3_cols = [1, 2, 4] + columns_list3           # 1:지역명, 2:학교명, 4:유형\n",
    "grouped3 = df.groupby('Cluster3')\n",
    "for key, group in grouped3:\n",
    "    print('* key :', key)                          # 클러스터  값: -1, 0 ~ 6\n",
    "    print('* number :', len(group))                # 각 클러스터 속한 학교수\n",
    "    print(group.iloc[:, grouped3_cols].head())     # 5개의 데이터 출력"
   ]
  },
  {
   "cell_type": "code",
   "execution_count": 44,
   "id": "f955a0ad",
   "metadata": {},
   "outputs": [],
   "source": [
    "cluster3_map = folium.Map(location=[37.55,126.98], tiles='Stamen Terrain', \n",
    "                          zoom_start=12)\n",
    "\n",
    "for name, lat, lng, clus in zip(df.학교명, df.위도, df.경도, df.Cluster3):  \n",
    "    folium.CircleMarker([lat, lng],\n",
    "                        radius=5,                   # 원의 반지름\n",
    "                        color=colors[clus],         # 원의 둘레 색상\n",
    "                        fill=True,\n",
    "                        fill_color=colors[clus],    # 원을 채우는 색\n",
    "                        fill_opacity=0.7,           # 투명도    \n",
    "                        popup=name\n",
    "    ).add_to(cluster3_map)"
   ]
  },
  {
   "cell_type": "code",
   "execution_count": 45,
   "id": "fa1af3ab",
   "metadata": {},
   "outputs": [],
   "source": [
    "# 지도를 html 파일로 저장하기\n",
    "cluster3_map.save('seoul_mschool_cluster3.html')"
   ]
  },
  {
   "cell_type": "code",
   "execution_count": 46,
   "id": "102aa65d",
   "metadata": {},
   "outputs": [
    {
     "data": {
      "text/plain": [
       "True"
      ]
     },
     "execution_count": 46,
     "metadata": {},
     "output_type": "execute_result"
    }
   ],
   "source": [
    "# 웹브라우저에 서울시내 중학교 위치 정보를 출력\n",
    "import webbrowser\n",
    "\n",
    "webbrowser.open('seoul_mschool_cluster3.html')"
   ]
  }
 ],
 "metadata": {
  "kernelspec": {
   "display_name": "Python 3 (ipykernel)",
   "language": "python",
   "name": "python3"
  },
  "language_info": {
   "codemirror_mode": {
    "name": "ipython",
    "version": 3
   },
   "file_extension": ".py",
   "mimetype": "text/x-python",
   "name": "python",
   "nbconvert_exporter": "python",
   "pygments_lexer": "ipython3",
   "version": "3.9.7"
  }
 },
 "nbformat": 4,
 "nbformat_minor": 5
}

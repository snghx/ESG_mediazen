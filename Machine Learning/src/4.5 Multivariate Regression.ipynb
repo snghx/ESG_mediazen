{
 "cells": [
  {
   "cell_type": "markdown",
   "id": "4ade9b0e",
   "metadata": {},
   "source": [
    "# 다중 회귀 분석(Multivariate Regression)\n",
    "### 독립변수가 2개 이상"
   ]
  },
  {
   "cell_type": "code",
   "execution_count": 1,
   "id": "ce8ff696",
   "metadata": {},
   "outputs": [],
   "source": [
    "import pandas as pd\n",
    "import numpy as np\n",
    "import matplotlib.pyplot as plt\n",
    "import seaborn as sns"
   ]
  },
  {
   "cell_type": "code",
   "execution_count": 2,
   "id": "0c2fb9c7",
   "metadata": {},
   "outputs": [
    {
     "name": "stdout",
     "output_type": "stream",
     "text": [
      "        0  1      2      3       4     5   6  7                          8\n",
      "0    18.0  8  307.0  130.0  3504.0  12.0  70  1  chevrolet chevelle malibu\n",
      "1    15.0  8  350.0  165.0  3693.0  11.5  70  1          buick skylark 320\n",
      "2    18.0  8  318.0  150.0  3436.0  11.0  70  1         plymouth satellite\n",
      "3    16.0  8  304.0  150.0  3433.0  12.0  70  1              amc rebel sst\n",
      "4    17.0  8  302.0  140.0  3449.0  10.5  70  1                ford torino\n",
      "..    ... ..    ...    ...     ...   ...  .. ..                        ...\n",
      "393  27.0  4  140.0  86.00  2790.0  15.6  82  1            ford mustang gl\n",
      "394  44.0  4   97.0  52.00  2130.0  24.6  82  2                  vw pickup\n",
      "395  32.0  4  135.0  84.00  2295.0  11.6  82  1              dodge rampage\n",
      "396  28.0  4  120.0  79.00  2625.0  18.6  82  1                ford ranger\n",
      "397  31.0  4  119.0  82.00  2720.0  19.4  82  1                 chevy s-10\n",
      "\n",
      "[398 rows x 9 columns]\n"
     ]
    }
   ],
   "source": [
    "# 자동차 연비 데이터셋 가져오기\n",
    "df = pd.read_csv('auto-mpg.csv', header=None)\n",
    "print(df)                        # 컬럼 번호로 출력 ( 0 ~ 8 )"
   ]
  },
  {
   "cell_type": "code",
   "execution_count": 3,
   "id": "6a8c54af",
   "metadata": {},
   "outputs": [],
   "source": [
    "# 열 이름 지정\n",
    "df.columns = ['mpg','cylinders','displacement','horsepower','weight',\n",
    "              'acceleration','model year','origin','name'] "
   ]
  },
  {
   "cell_type": "code",
   "execution_count": 4,
   "id": "3026eb84",
   "metadata": {},
   "outputs": [
    {
     "name": "stdout",
     "output_type": "stream",
     "text": [
      "    mpg  cylinders  displacement horsepower  weight  acceleration  model year  \\\n",
      "0  18.0          8         307.0      130.0  3504.0          12.0          70   \n",
      "1  15.0          8         350.0      165.0  3693.0          11.5          70   \n",
      "2  18.0          8         318.0      150.0  3436.0          11.0          70   \n",
      "3  16.0          8         304.0      150.0  3433.0          12.0          70   \n",
      "4  17.0          8         302.0      140.0  3449.0          10.5          70   \n",
      "\n",
      "   origin                       name  \n",
      "0       1  chevrolet chevelle malibu  \n",
      "1       1          buick skylark 320  \n",
      "2       1         plymouth satellite  \n",
      "3       1              amc rebel sst  \n",
      "4       1                ford torino  \n"
     ]
    }
   ],
   "source": [
    "# 데이터 살펴보기\n",
    "print(df.head())                # 앞에서 5개의 데이터 출력"
   ]
  },
  {
   "cell_type": "code",
   "execution_count": 5,
   "id": "ae63806a",
   "metadata": {},
   "outputs": [
    {
     "name": "stdout",
     "output_type": "stream",
     "text": [
      "<class 'pandas.core.frame.DataFrame'>\n",
      "RangeIndex: 398 entries, 0 to 397\n",
      "Data columns (total 9 columns):\n",
      " #   Column        Non-Null Count  Dtype  \n",
      "---  ------        --------------  -----  \n",
      " 0   mpg           398 non-null    float64\n",
      " 1   cylinders     398 non-null    int64  \n",
      " 2   displacement  398 non-null    float64\n",
      " 3   horsepower    398 non-null    object \n",
      " 4   weight        398 non-null    float64\n",
      " 5   acceleration  398 non-null    float64\n",
      " 6   model year    398 non-null    int64  \n",
      " 7   origin        398 non-null    int64  \n",
      " 8   name          398 non-null    object \n",
      "dtypes: float64(4), int64(3), object(2)\n",
      "memory usage: 28.1+ KB\n",
      "None\n"
     ]
    }
   ],
   "source": [
    "# 데이터 자료형 확인\n",
    "print(df.info())                # horsepower컬럼  object(문자형)"
   ]
  },
  {
   "cell_type": "code",
   "execution_count": 6,
   "id": "c13d2fe9",
   "metadata": {},
   "outputs": [
    {
     "name": "stdout",
     "output_type": "stream",
     "text": [
      "              mpg   cylinders  displacement       weight  acceleration  \\\n",
      "count  398.000000  398.000000    398.000000   398.000000    398.000000   \n",
      "mean    23.514573    5.454774    193.425879  2970.424623     15.568090   \n",
      "std      7.815984    1.701004    104.269838   846.841774      2.757689   \n",
      "min      9.000000    3.000000     68.000000  1613.000000      8.000000   \n",
      "25%     17.500000    4.000000    104.250000  2223.750000     13.825000   \n",
      "50%     23.000000    4.000000    148.500000  2803.500000     15.500000   \n",
      "75%     29.000000    8.000000    262.000000  3608.000000     17.175000   \n",
      "max     46.600000    8.000000    455.000000  5140.000000     24.800000   \n",
      "\n",
      "       model year      origin  \n",
      "count  398.000000  398.000000  \n",
      "mean    76.010050    1.572864  \n",
      "std      3.697627    0.802055  \n",
      "min     70.000000    1.000000  \n",
      "25%     73.000000    1.000000  \n",
      "50%     76.000000    1.000000  \n",
      "75%     79.000000    2.000000  \n",
      "max     82.000000    3.000000  \n"
     ]
    }
   ],
   "source": [
    "# 데이터 통계 요약정보 확인\n",
    "print(df.describe())            # horsepower컬럼  object(문자형) 출력안됨"
   ]
  },
  {
   "cell_type": "code",
   "execution_count": 7,
   "id": "914675e6",
   "metadata": {},
   "outputs": [
    {
     "name": "stdout",
     "output_type": "stream",
     "text": [
      "['130.0' '165.0' '150.0' '140.0' '198.0' '220.0' '215.0' '225.0' '190.0'\n",
      " '170.0' '160.0' '95.00' '97.00' '85.00' '88.00' '46.00' '87.00' '90.00'\n",
      " '113.0' '200.0' '210.0' '193.0' '?' '100.0' '105.0' '175.0' '153.0'\n",
      " '180.0' '110.0' '72.00' '86.00' '70.00' '76.00' '65.00' '69.00' '60.00'\n",
      " '80.00' '54.00' '208.0' '155.0' '112.0' '92.00' '145.0' '137.0' '158.0'\n",
      " '167.0' '94.00' '107.0' '230.0' '49.00' '75.00' '91.00' '122.0' '67.00'\n",
      " '83.00' '78.00' '52.00' '61.00' '93.00' '148.0' '129.0' '96.00' '71.00'\n",
      " '98.00' '115.0' '53.00' '81.00' '79.00' '120.0' '152.0' '102.0' '108.0'\n",
      " '68.00' '58.00' '149.0' '89.00' '63.00' '48.00' '66.00' '139.0' '103.0'\n",
      " '125.0' '133.0' '138.0' '135.0' '142.0' '77.00' '62.00' '132.0' '84.00'\n",
      " '64.00' '74.00' '116.0' '82.00']\n",
      "\n",
      "\n"
     ]
    }
   ],
   "source": [
    "# horsepower 열의 고유값 확인 : ['130.0' '165.0' '150.0' '140.0' ...]\n",
    "print(df['horsepower'].unique())           # horsepower 열의 고유값 확인\n",
    "print('\\n')                                # horsepower 열의 자료형 object(문자형)"
   ]
  },
  {
   "cell_type": "code",
   "execution_count": 8,
   "id": "12d035c3",
   "metadata": {},
   "outputs": [],
   "source": [
    "# horsepower 열의 자료형 변경 (문자형 ->실수형)\n",
    "# inplace 옵션이 True이면, 명령어를 실행 한 후 메소드가 적용된 데이터 프레임으로 반환 한다.\n",
    "df['horsepower'].replace('?', np.nan, inplace=True)     # '?'을 np.nan으로 변경\n",
    "df.dropna(subset=['horsepower'], axis=0, inplace=True)  # 누락데이터 행을 삭제\n",
    "df['horsepower'] = df['horsepower'].astype('float')     # 문자형을 실수형으로 변환"
   ]
  },
  {
   "cell_type": "code",
   "execution_count": 9,
   "id": "89d816d0",
   "metadata": {},
   "outputs": [],
   "source": [
    "# 분석에 활용할 열(속성)을 선택 (연비, 실린더, 출력, 중량)\n",
    "ndf = df[['mpg', 'cylinders', 'horsepower', 'weight']]"
   ]
  },
  {
   "cell_type": "code",
   "execution_count": 10,
   "id": "c4786f3f",
   "metadata": {},
   "outputs": [],
   "source": [
    "# 독립변수와 종속변수 선택\n",
    "x=ndf[['cylinders', 'horsepower', 'weight']]    # 독립 변수 : cylinders, horsepower, weight\n",
    "y=ndf['mpg']                                    # 종속 변수 y"
   ]
  },
  {
   "cell_type": "code",
   "execution_count": 11,
   "id": "59d79f3c",
   "metadata": {},
   "outputs": [],
   "source": [
    "# train data 와 test data로 구분(7:3 비율)\n",
    "from sklearn.model_selection import train_test_split\n",
    "x_train, x_test, y_train, y_test = train_test_split(x, y, test_size=0.3, random_state=10)"
   ]
  },
  {
   "cell_type": "code",
   "execution_count": 12,
   "id": "04f48e76",
   "metadata": {},
   "outputs": [
    {
     "name": "stdout",
     "output_type": "stream",
     "text": [
      "훈련 데이터:  (274, 3)\n",
      "검증 데이터:  (118, 3)\n"
     ]
    }
   ],
   "source": [
    "print('훈련 데이터: ', x_train.shape)            # 훈련 데이터:  (274, 3)\n",
    "print('검증 데이터: ', x_test.shape)             # 검증 데이터:  (118, 3)"
   ]
  },
  {
   "cell_type": "code",
   "execution_count": 13,
   "id": "d9b54836",
   "metadata": {},
   "outputs": [
    {
     "name": "stdout",
     "output_type": "stream",
     "text": [
      "x_train:      cylinders  horsepower  weight\n",
      "38           8       165.0  4209.0\n",
      "172          4        71.0  2223.0\n",
      "277          6       133.0  3410.0\n",
      "196          4        60.0  2164.0\n",
      "357          4       100.0  2615.0\n",
      "..         ...         ...     ...\n",
      "375          4        74.0  1980.0\n",
      "322          4        65.0  2110.0\n",
      "15           6        95.0  2833.0\n",
      "127          6       100.0  2901.0\n",
      "267          4        95.0  2560.0\n",
      "\n",
      "[274 rows x 3 columns]\n",
      "x_test:      cylinders  horsepower  weight\n",
      "243          3       110.0  2720.0\n",
      "371          4        84.0  2525.0\n",
      "300          8        90.0  3420.0\n",
      "345          4        60.0  1760.0\n",
      "265          8       140.0  4080.0\n",
      "..         ...         ...     ...\n",
      "384          4        67.0  1965.0\n",
      "20           4        87.0  2672.0\n",
      "189          8       120.0  3962.0\n",
      "60           4        90.0  2408.0\n",
      "227          6       100.0  3630.0\n",
      "\n",
      "[118 rows x 3 columns]\n"
     ]
    }
   ],
   "source": [
    "print('x_train:', x_train)\n",
    "print('x_test:', x_test)"
   ]
  },
  {
   "cell_type": "code",
   "execution_count": 14,
   "id": "488aa15d",
   "metadata": {},
   "outputs": [],
   "source": [
    "# sklearn 라이브러리에서 선형회귀분석 모듈 가져오기\n",
    "from sklearn.linear_model import LinearRegression"
   ]
  },
  {
   "cell_type": "code",
   "execution_count": 15,
   "id": "ad20c8ee",
   "metadata": {},
   "outputs": [],
   "source": [
    "# 단순회귀분석 모델 객체 생성\n",
    "model = LinearRegression()                      # 모델 만들기"
   ]
  },
  {
   "cell_type": "code",
   "execution_count": 16,
   "id": "d2c0ce99",
   "metadata": {},
   "outputs": [
    {
     "data": {
      "text/plain": [
       "LinearRegression()"
      ]
     },
     "execution_count": 16,
     "metadata": {},
     "output_type": "execute_result"
    }
   ],
   "source": [
    "# train data를 가지고 모델 학습\n",
    "model.fit(x_train, y_train)                    # 모델 학습"
   ]
  },
  {
   "cell_type": "code",
   "execution_count": 17,
   "id": "ddd3ad7f",
   "metadata": {},
   "outputs": [
    {
     "name": "stdout",
     "output_type": "stream",
     "text": [
      "0.6939048496695597\n"
     ]
    }
   ],
   "source": [
    "# 모델 평가\n",
    "# 모델 학습이 완료된 다음에 검증데이터(x_test, y_test)를 사용하여 회귀 모델의 \n",
    "# 평가지표인 결정계수(R-제곱) 계산\n",
    "r_square = model.score(x_test, y_test)\n",
    "print(r_square)                             # 결정계수 : 0.6939048496695597\n",
    "\n",
    "# 다중회귀분석 결정계수 : 0.6939048496695597\n",
    "# 다중회귀분석을 했을때 모델의 성능 지표인 결정계수값은 0.6939048496695597 으로\n",
    "# 비교적 양호한 수준이다."
   ]
  },
  {
   "cell_type": "code",
   "execution_count": 18,
   "id": "f574bdbb",
   "metadata": {},
   "outputs": [
    {
     "name": "stdout",
     "output_type": "stream",
     "text": [
      "x 변수의 회귀계수 a:  [-0.60691288 -0.03714088 -0.00522268]\n"
     ]
    }
   ],
   "source": [
    "# 회귀식의 회귀계수(기울기) : 독립변수 3개의 기울기가 리스트로 리턴됨\n",
    "print('x 변수의 회귀계수 a: ', model.coef_) "
   ]
  },
  {
   "cell_type": "code",
   "execution_count": 19,
   "id": "fcc50e9d",
   "metadata": {},
   "outputs": [
    {
     "name": "stdout",
     "output_type": "stream",
     "text": [
      "상수항 b 46.41435126963408\n"
     ]
    }
   ],
   "source": [
    "# 회귀식의 y절편\n",
    "print('상수항 b', model.intercept_)            "
   ]
  },
  {
   "cell_type": "code",
   "execution_count": 20,
   "id": "6eea1819",
   "metadata": {},
   "outputs": [
    {
     "name": "stdout",
     "output_type": "stream",
     "text": [
      "[26.30243119 27.67960352 20.35480988 32.5663334  15.05079818 18.65250234\n",
      " 16.5189694   8.21482855 30.00898418 28.56105525 21.63593175 22.17449944\n",
      " 26.73546308 27.06911576 13.10907653 16.81024194 24.07783306 29.38394295\n",
      " 11.27643241 10.64851363 12.83398787 30.95656774 23.11048993 14.9956607\n",
      " 16.14345244  9.63707709 19.31184005 30.31070208 22.37815073 25.60054305\n",
      " 22.17386758 22.66539802 27.34304014 24.03375623 23.58227736 30.06694949\n",
      " 31.83692148 20.6513051  16.26186076 26.65768848 22.66017535 23.58573705\n",
      " 30.31476048 24.14617908 23.74689385 11.7401859  14.8546484  31.8171619\n",
      " 22.76694089 29.65204595 28.81465448 11.37686071 23.72676593 13.75497533\n",
      " 16.3454236  23.8068028  23.83990186 29.99153659 30.15796496 26.51261777\n",
      " 31.02273271 27.92508595 20.72312738 23.67799884 26.50273798 32.31273417\n",
      "  9.89019362 25.48444753 23.64014488 14.31205545 10.87368749 29.35262346\n",
      " 25.75065578 30.7807431  29.89694625 24.8482802  21.93884707 13.90004603\n",
      " 32.09399697 31.0529045  31.23569823 11.40759807 26.00887899 11.99835939\n",
      " 16.63669615 28.04984809 19.89923947 21.6724905  25.62476251 28.62025112\n",
      " 29.91201557 15.36068259 31.27051055 30.89216576 13.03133507 28.7653384\n",
      " 27.10510894 13.85942889 19.78128236 29.59399778 30.99370862 27.38478842\n",
      " 28.8221071  23.31823277 26.10483083 28.92784013 31.22872913 14.29933126\n",
      " 28.24064343  9.4710991  10.86563698 20.80783794 23.44650431 31.23569823\n",
      " 26.8004472  16.40989187 28.06781153 20.10046442]\n"
     ]
    }
   ],
   "source": [
    "# 모델 예측\n",
    "y_hat = model.predict(x_test)                  # 예측값 구하기\n",
    "print(y_hat)"
   ]
  },
  {
   "cell_type": "code",
   "execution_count": 21,
   "id": "b41f7a39",
   "metadata": {},
   "outputs": [
    {
     "name": "stderr",
     "output_type": "stream",
     "text": [
      "C:\\ProgramData\\Anaconda3\\lib\\site-packages\\seaborn\\distributions.py:2619: FutureWarning: `distplot` is a deprecated function and will be removed in a future version. Please adapt your code to use either `displot` (a figure-level function with similar flexibility) or `kdeplot` (an axes-level function for kernel density plots).\n",
      "  warnings.warn(msg, FutureWarning)\n",
      "C:\\ProgramData\\Anaconda3\\lib\\site-packages\\seaborn\\distributions.py:2619: FutureWarning: `distplot` is a deprecated function and will be removed in a future version. Please adapt your code to use either `displot` (a figure-level function with similar flexibility) or `kdeplot` (an axes-level function for kernel density plots).\n",
      "  warnings.warn(msg, FutureWarning)\n"
     ]
    },
    {
     "data": {
      "image/png": "[encoded data removed]",
      "text/plain": [
       "<Figure size 720x360 with 1 Axes>"
      ]
     },
     "metadata": {
      "needs_background": "light"
     },
     "output_type": "display_data"
    }
   ],
   "source": [
    "# 모델이 예측한값(y_hat)과 실제값(y_test) 분포 비교\n",
    "\n",
    "plt.figure(figsize=(10, 5))\n",
    "ax1 = sns.distplot(y_test, hist=False, label=\"y_test\")          # 실제값\n",
    "ax2 = sns.distplot(y_hat, hist=False, label=\"y_hat\", ax=ax1)    # 예측값\n",
    "plt.show()\n",
    "plt.close()\n",
    "\n",
    "# 1.단순회귀분석의 결과와 비교할 때 데이터가 어는 한쪽으로 편향되는 경향은 그대로\n",
    "#   남아 있지만 그래프의 첨도(뽀족한 정도)가 약간 누그러진 것을 볼 수 있다.\n",
    "\n",
    "# 실제 값(y) : 파랑색\n",
    "# 예측한 값(y_hat) : 노랑색"
   ]
  }
 ],
 "metadata": {
  "kernelspec": {
   "display_name": "Python 3 (ipykernel)",
   "language": "python",
   "name": "python3"
  },
  "language_info": {
   "codemirror_mode": {
    "name": "ipython",
    "version": 3
   },
   "file_extension": ".py",
   "mimetype": "text/x-python",
   "name": "python",
   "nbconvert_exporter": "python",
   "pygments_lexer": "ipython3",
   "version": "3.9.7"
  }
 },
 "nbformat": 4,
 "nbformat_minor": 5
}

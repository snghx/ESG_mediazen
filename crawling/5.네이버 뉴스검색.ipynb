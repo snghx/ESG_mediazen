{
 "cells": [
  {
   "cell_type": "markdown",
   "id": "71e688d8",
   "metadata": {},
   "source": [
    "# 네이버 뉴스검색"
   ]
  },
  {
   "cell_type": "code",
   "execution_count": 1,
   "id": "01c0258b",
   "metadata": {},
   "outputs": [],
   "source": [
    "import requests\n",
    "import pandas as pd\n",
    "from pandas import DataFrame\n",
    "from bs4 import BeautifulSoup\n",
    "import re\n",
    "from datetime import datetime\n",
    "import os"
   ]
  },
  {
   "cell_type": "code",
   "execution_count": 2,
   "id": "8cf016bf",
   "metadata": {},
   "outputs": [
    {
     "name": "stdout",
     "output_type": "stream",
     "text": [
      "2022-09-06 13:13:36.260903\n",
      "2022-09-06_13:13\n",
      "2022-09-06_13시13분\n"
     ]
    }
   ],
   "source": [
    "date = str(datetime.now())\n",
    "print(date)\n",
    "date = date[:date.rfind(':')].replace(' ', '_')\n",
    "print(date)\n",
    "date = date.replace(':', '시') + '분'\n",
    "print(date)"
   ]
  },
  {
   "cell_type": "code",
   "execution_count": 3,
   "id": "f7b476c8",
   "metadata": {},
   "outputs": [
    {
     "name": "stdout",
     "output_type": "stream",
     "text": [
      "검색 키워드를 입력하세요 : 태풍\n",
      "총 필요한 뉴스기사 수를 입력해주세요(숫자만 입력) : 3000\n"
     ]
    }
   ],
   "source": [
    "query = input('검색 키워드를 입력하세요 : ')\n",
    "news_num = int(input('총 필요한 뉴스기사 수를 입력해주세요(숫자만 입력) : '))\n",
    "query = query.replace(' ', '+')\n",
    "\n",
    "news_url = 'https://search.naver.com/search.naver?where=news&sm=tab_jum&query={}'\n",
    "\n",
    "req = requests.get(news_url.format(query))\n",
    "soup = BeautifulSoup(req.text, 'html.parser')"
   ]
  },
  {
   "cell_type": "code",
   "execution_count": 4,
   "id": "ef08ca08",
   "metadata": {},
   "outputs": [
    {
     "name": "stdout",
     "output_type": "stream",
     "text": [
      "\n",
      "크롤링 중...\n"
     ]
    }
   ],
   "source": [
    "news_dict = {}\n",
    "idx = 0\n",
    "cur_page = 1\n",
    "\n",
    "print()\n",
    "print('크롤링 중...')"
   ]
  },
  {
   "cell_type": "code",
   "execution_count": 5,
   "id": "ef11eaf5",
   "metadata": {},
   "outputs": [
    {
     "name": "stdout",
     "output_type": "stream",
     "text": [
      "크롤링 완료\n"
     ]
    }
   ],
   "source": [
    "while idx < news_num:\n",
    "    ### 네이버 뉴스 웹페이지 구성이 바뀌어 태그명, class 속성 값 등을 수정함(20210126) ###\n",
    "\n",
    "    table = soup.find('ul', {'class': 'list_news'})\n",
    "    li_list = table.find_all('li', {'id': re.compile('sp_nws.*')})\n",
    "    area_list = [li.find('div', {'class': 'news_area'}) for li in li_list]\n",
    "    a_list = [area.find('a', {'class': 'news_tit'}) for area in area_list]\n",
    "\n",
    "    for n in a_list[:min(len(a_list), news_num - idx)]:\n",
    "        news_dict[idx] = {'title': n.get('title'),\n",
    "                          'url': n.get('href')}\n",
    "        idx += 1\n",
    "\n",
    "    cur_page += 1\n",
    "\n",
    "    pages = soup.find('div', {'class': 'sc_page_inner'})\n",
    "    next_page_url = [p for p in pages.find_all('a') if p.text == str(cur_page)][0].get('href')\n",
    "\n",
    "    req = requests.get('https://search.naver.com/search.naver' + next_page_url)\n",
    "    soup = BeautifulSoup(req.text, 'html.parser')\n",
    "\n",
    "print('크롤링 완료')"
   ]
  },
  {
   "cell_type": "code",
   "execution_count": 6,
   "id": "feaa886c",
   "metadata": {},
   "outputs": [
    {
     "name": "stdout",
     "output_type": "stream",
     "text": [
      "데이터프레임 변환\n",
      "엑셀 저장 완료 | 경로 : C:\\Users\\giduc\\python_analysis\\crawling\\네이버뉴스_태풍_2022-09-06_13시13분.xlsx\n"
     ]
    }
   ],
   "source": [
    "print('데이터프레임 변환')\n",
    "news_df = DataFrame(news_dict).T\n",
    "\n",
    "folder_path = os.getcwd()\n",
    "xlsx_file_name = '네이버뉴스_{}_{}.xlsx'.format(query, date)\n",
    "\n",
    "news_df.to_excel(xlsx_file_name)                 # 엑셀 파일로 저장\n",
    "\n",
    "print('엑셀 저장 완료 | 경로 : {}\\\\{}'.format(folder_path, xlsx_file_name))\n",
    "os.startfile(folder_path)"
   ]
  },
  {
   "cell_type": "code",
   "execution_count": 7,
   "id": "da69d22b",
   "metadata": {},
   "outputs": [
    {
     "name": "stdout",
     "output_type": "stream",
     "text": [
      "                                            title\n",
      "0     [속보] 중대본 \"태풍에 1명 사망·2명 실종\"…시설물 파손·침수 피해도 속출\n",
      "1           포스코 포항제철소 공장 2곳서 화재…\"태풍 연관성 조사\"(종합2보)\n",
      "2              尹대통령 \"태풍 완전히 지날 때까지 긴장의 끈 놓지 말아달라\"\n",
      "3                 포스코 포항제철소 공장 2곳서 화재…\"태풍 연관성 조사\"\n",
      "4                  '태풍의 상처' 서울 도로 곳곳 통제…이젠 출근길 비상\n",
      "...                                           ...\n",
      "2995  제주·부산·경남 등 남부지방 6일 ‘등교 중지’ [‘괴물 태풍’ 힌남노 상륙]\n",
      "2996   [B tv 서울뉴스] 태풍 피해 우려 '서울·인천 임시선별검사소' 운영 중단\n",
      "2997               박완수 도지사, 태풍 ‘힌남노’ 대비 재해취약지역 점검\n",
      "2998                                 태풍 '힌남노' 근접중\n",
      "2999                      진병영 함양군수, 태풍 대비 현장점검 나서\n",
      "\n",
      "[3000 rows x 1 columns]\n"
     ]
    }
   ],
   "source": [
    "# 엑셀 파일을 읽어와서 result.txt 파일로 저장\n",
    "df = pd.read_excel(xlsx_file_name)\n",
    "# print(df)\n",
    "\n",
    "title = df[['title']]\n",
    "print(title)\n",
    "\n",
    "title.to_csv('result.txt')                 # result.txt 파일로 저장"
   ]
  }
 ],
 "metadata": {
  "kernelspec": {
   "display_name": "Python 3 (ipykernel)",
   "language": "python",
   "name": "python3"
  },
  "language_info": {
   "codemirror_mode": {
    "name": "ipython",
    "version": 3
   },
   "file_extension": ".py",
   "mimetype": "text/x-python",
   "name": "python",
   "nbconvert_exporter": "python",
   "pygments_lexer": "ipython3",
   "version": "3.9.7"
  }
 },
 "nbformat": 4,
 "nbformat_minor": 5
}

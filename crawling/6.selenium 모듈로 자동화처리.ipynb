{
 "cells": [
  {
   "cell_type": "markdown",
   "id": "8eb808b2",
   "metadata": {},
   "source": [
    "# selenium 모듈로 자동화처리\n",
    "### 웹브라우저로 google 사이트 접속하기"
   ]
  },
  {
   "cell_type": "code",
   "execution_count": 3,
   "id": "314236cf",
   "metadata": {},
   "outputs": [],
   "source": [
    "# selenium 모듈 설치\n",
    "# pip  install  selenium"
   ]
  },
  {
   "cell_type": "code",
   "execution_count": 11,
   "id": "895adc8a",
   "metadata": {},
   "outputs": [
    {
     "name": "stderr",
     "output_type": "stream",
     "text": [
      "C:\\Users\\Public\\Documents\\ESTsoft\\CreatorTemp/ipykernel_14076/433102817.py:5: DeprecationWarning: executable_path has been deprecated, please pass in a Service object\n",
      "  driver = webdriver.Chrome(path)\n"
     ]
    }
   ],
   "source": [
    "from selenium import webdriver\n",
    "\n",
    "path = 'c:/downloads/chromedriver.exe'\n",
    "\n",
    "driver = webdriver.Chrome(path)\n",
    "\n",
    "# 특정 페이지 이동\n",
    "driver.get('https://www.google.com')\n",
    "# driver.get('https://www.naver.com')"
   ]
  },
  {
   "cell_type": "markdown",
   "id": "60b01c10",
   "metadata": {},
   "source": [
    "### 웹 사이트를 이미지로 캡처하기"
   ]
  },
  {
   "cell_type": "code",
   "execution_count": 13,
   "id": "b0394126",
   "metadata": {},
   "outputs": [
    {
     "name": "stderr",
     "output_type": "stream",
     "text": [
      "C:\\Users\\Public\\Documents\\ESTsoft\\CreatorTemp/ipykernel_14076/1095759293.py:4: DeprecationWarning: executable_path has been deprecated, please pass in a Service object\n",
      "  driver = webdriver.Chrome(path)\n"
     ]
    }
   ],
   "source": [
    "from selenium import webdriver\n",
    "\n",
    "path = \"c:/downloads/chromedriver.exe\"\n",
    "driver = webdriver.Chrome(path)\n",
    "\n",
    "# 3초 대기하기\n",
    "driver.implicitly_wait(3)\n",
    "\n",
    "# URL 읽어 들이기\n",
    "driver.get(\"https://www.nate.com\")\n",
    "\n",
    "# 화면을 캡처해서 저장하기\n",
    "driver.save_screenshot(\"website.png\")\n",
    "\n",
    "# 브라우저 종료하기\n",
    "driver.quit()"
   ]
  },
  {
   "cell_type": "markdown",
   "id": "1a33aced",
   "metadata": {},
   "source": [
    "### 자바스크립트 실행해보기"
   ]
  },
  {
   "cell_type": "code",
   "execution_count": 14,
   "id": "4767da1b",
   "metadata": {},
   "outputs": [
    {
     "name": "stderr",
     "output_type": "stream",
     "text": [
      "C:\\Users\\Public\\Documents\\ESTsoft\\CreatorTemp/ipykernel_14076/1510267343.py:6: DeprecationWarning: executable_path has been deprecated, please pass in a Service object\n",
      "  driver = webdriver.Chrome(path)\n"
     ]
    },
    {
     "name": "stdout",
     "output_type": "stream",
     "text": [
      "150\n"
     ]
    }
   ],
   "source": [
    "from selenium import webdriver\n",
    "\n",
    "path = \"c:/downloads/chromedriver.exe\"\n",
    "\n",
    "# 조금만 기다리면 selenium으로 제어할 수 있는 브라우저 새창이 뜬다\n",
    "driver = webdriver.Chrome(path)\n",
    "\n",
    "driver.implicitly_wait(3)\n",
    "\n",
    "# 웹 페이지 열기\n",
    "driver.get(\"https://www.google.com\")\n",
    "\n",
    "# 자바스크립트 실행하기\n",
    "r = driver.execute_script(\"return 100 + 50\")\n",
    "print(r)"
   ]
  },
  {
   "cell_type": "markdown",
   "id": "ed091ec5",
   "metadata": {},
   "source": [
    "### 웹 브라우저로 검색하기"
   ]
  },
  {
   "cell_type": "code",
   "execution_count": 17,
   "id": "53fbca06",
   "metadata": {},
   "outputs": [
    {
     "name": "stderr",
     "output_type": "stream",
     "text": [
      "C:\\Users\\Public\\Documents\\ESTsoft\\CreatorTemp/ipykernel_14076/1268123936.py:6: DeprecationWarning: executable_path has been deprecated, please pass in a Service object\n",
      "  driver = webdriver.Chrome(path)\n",
      "C:\\Users\\Public\\Documents\\ESTsoft\\CreatorTemp/ipykernel_14076/1268123936.py:13: DeprecationWarning: find_element_by_name is deprecated. Please use find_element(by=By.NAME, value=name) instead\n",
      "  elem = driver.find_element_by_name(\"q\")\n"
     ]
    }
   ],
   "source": [
    "from selenium import webdriver\n",
    "\n",
    "path = \"c:/downloads/chromedriver.exe\"\n",
    "\n",
    "# selenium의 webdriver로 크롬 브라우저를 실행한다\n",
    "driver = webdriver.Chrome(path)\n",
    "\n",
    "# google에 접속한다\n",
    "driver.get(\"http://www.google.co.kr\")\n",
    "\n",
    "# 검색 입력 부분에 커서를 올리고 검색 입력 부분에 다양한 명령을 내리기 위해 \n",
    "# elem 변수에 할당한다\n",
    "elem = driver.find_element_by_name(\"q\")\n",
    "\n",
    "# 검색어 입력창에 default로 값이 있을 수 있어 비운다\n",
    "elem.clear()\n",
    "\n",
    "# 검색어를 입력한다\n",
    "elem.send_keys(\"Selenium\")\n",
    "\n",
    "# 검색을 실행한다\n",
    "elem.submit()"
   ]
  },
  {
   "cell_type": "markdown",
   "id": "b24276f3",
   "metadata": {},
   "source": [
    "### nate.com 사이트 자동 로그인"
   ]
  },
  {
   "cell_type": "code",
   "execution_count": 36,
   "id": "5ff82fed",
   "metadata": {},
   "outputs": [
    {
     "name": "stderr",
     "output_type": "stream",
     "text": [
      "C:\\Users\\Public\\Documents\\ESTsoft\\CreatorTemp/ipykernel_14076/3324021987.py:7: DeprecationWarning: executable_path has been deprecated, please pass in a Service object\n",
      "  driver = webdriver.Chrome(path)\n",
      "C:\\Users\\Public\\Documents\\ESTsoft\\CreatorTemp/ipykernel_14076/3324021987.py:16: DeprecationWarning: find_element_by_* commands are deprecated. Please use find_element() instead\n",
      "  driver.find_element_by_id('ID').send_keys('guardian23@nate.com')\n",
      "C:\\Users\\Public\\Documents\\ESTsoft\\CreatorTemp/ipykernel_14076/3324021987.py:17: DeprecationWarning: find_element_by_* commands are deprecated. Please use find_element() instead\n",
      "  driver.find_element_by_id('PASSDM').send_keys('galaxy3980')\n",
      "C:\\Users\\Public\\Documents\\ESTsoft\\CreatorTemp/ipykernel_14076/3324021987.py:20: DeprecationWarning: find_element_by_* commands are deprecated. Please use find_element() instead\n",
      "  driver.find_element_by_id('btnLOGIN').click()\n"
     ]
    }
   ],
   "source": [
    "# nate.com 사이트에 자동 로그인\n",
    "\n",
    "from selenium import webdriver\n",
    "\n",
    "path = 'c:/downloads/chromedriver.exe'\n",
    "\n",
    "driver = webdriver.Chrome(path)\n",
    "\n",
    "# 3초 대기\n",
    "driver.implicitly_wait(3)\n",
    "\n",
    "# nate.com 페이지 불러오기\n",
    "driver.get('https://www.nate.com')\n",
    "\n",
    "# 아이디 / 비번 입력 양식의 태그 구하기\n",
    "driver.find_element_by_id('ID').send_keys('guardian23@nate.com')     # id 입력\n",
    "driver.find_element_by_id('PASSDM').send_keys('비밀번호')            # 비밀번호 입력\n",
    "\n",
    "# 로그인 버튼 클릭\n",
    "driver.find_element_by_id('btnLOGIN').click()"
   ]
  },
  {
   "cell_type": "markdown",
   "id": "90ea1302",
   "metadata": {},
   "source": [
    "### 네이버 자동 로그인 \n",
    "#### 로그인 자동 입력 방지에 걸림"
   ]
  },
  {
   "cell_type": "code",
   "execution_count": 38,
   "id": "78fbf4d1",
   "metadata": {},
   "outputs": [
    {
     "name": "stderr",
     "output_type": "stream",
     "text": [
      "C:\\Users\\Public\\Documents\\ESTsoft\\CreatorTemp/ipykernel_14076/3472972984.py:8: DeprecationWarning: executable_path has been deprecated, please pass in a Service object\n",
      "  driver = webdriver.Chrome(path)\n",
      "C:\\Users\\Public\\Documents\\ESTsoft\\CreatorTemp/ipykernel_14076/3472972984.py:17: DeprecationWarning: find_element_by_class_name is deprecated. Please use find_element(by=By.CLASS_NAME, value=name) instead\n",
      "  login_btn = driver.find_element_by_class_name('link_login')\n",
      "C:\\Users\\Public\\Documents\\ESTsoft\\CreatorTemp/ipykernel_14076/3472972984.py:22: DeprecationWarning: find_element_by_* commands are deprecated. Please use find_element() instead\n",
      "  driver.find_element_by_id('id').send_keys('giduck23')       # id 입력\n",
      "C:\\Users\\Public\\Documents\\ESTsoft\\CreatorTemp/ipykernel_14076/3472972984.py:23: DeprecationWarning: find_element_by_* commands are deprecated. Please use find_element() instead\n",
      "  driver.find_element_by_id('pw').send_keys('guardian123')       # 비밀번호 입력\n",
      "C:\\Users\\Public\\Documents\\ESTsoft\\CreatorTemp/ipykernel_14076/3472972984.py:26: DeprecationWarning: find_element_by_* commands are deprecated. Please use find_element() instead\n",
      "  driver.find_element_by_id('log.login').click()\n"
     ]
    }
   ],
   "source": [
    "# naver.com 사이트에 자동 로그인\n",
    "\n",
    "from selenium import webdriver\n",
    "import time\n",
    "\n",
    "path = 'c:/downloads/chromedriver.exe'\n",
    "\n",
    "driver = webdriver.Chrome(path)\n",
    "\n",
    "# 3초 대기\n",
    "driver.implicitly_wait(3)\n",
    "\n",
    "# naver.com 페이지 불러오기\n",
    "driver.get('https://www.naver.com')\n",
    "\n",
    "# 로그인 버튼을 찾고 클릭합니다\n",
    "login_btn = driver.find_element_by_class_name('link_login')\n",
    "login_btn.click()\n",
    "time.sleep(1)\n",
    "\n",
    "# 아이디 / 비번 입력 양식의 태그 구하기\n",
    "driver.find_element_by_id('id').send_keys('giduck23')       # id 입력\n",
    "driver.find_element_by_id('pw').send_keys('비밀번호')       # 비밀번호 입력\n",
    "\n",
    "# 로그인 버튼 클릭\n",
    "driver.find_element_by_id('log.login').click()"
   ]
  },
  {
   "cell_type": "markdown",
   "id": "82b33998",
   "metadata": {},
   "source": [
    "### 네이버 자동 로그인 \n",
    "#### 로그인 자동 입력 방지에 걸리지 않는 방법\n",
    "#### pyperclip 라이브러리를 이용해서 아이디와 비밀번호를 클립보드에 저장한 뒤, Ctrl + v 키로 붙여넣기로 처리"
   ]
  },
  {
   "cell_type": "code",
   "execution_count": 37,
   "id": "6f1f4c1d",
   "metadata": {},
   "outputs": [
    {
     "name": "stderr",
     "output_type": "stream",
     "text": [
      "C:\\Users\\Public\\Documents\\ESTsoft\\CreatorTemp/ipykernel_14076/3359827165.py:11: DeprecationWarning: executable_path has been deprecated, please pass in a Service object\n",
      "  driver = webdriver.Chrome(path)\n",
      "C:\\Users\\Public\\Documents\\ESTsoft\\CreatorTemp/ipykernel_14076/3359827165.py:16: DeprecationWarning: find_element_by_class_name is deprecated. Please use find_element(by=By.CLASS_NAME, value=name) instead\n",
      "  login_btn = driver.find_element_by_class_name('link_login')\n",
      "C:\\Users\\Public\\Documents\\ESTsoft\\CreatorTemp/ipykernel_14076/3359827165.py:21: DeprecationWarning: find_element_by_name is deprecated. Please use find_element(by=By.NAME, value=name) instead\n",
      "  tag_id = driver.find_element_by_name('id')\n",
      "C:\\Users\\Public\\Documents\\ESTsoft\\CreatorTemp/ipykernel_14076/3359827165.py:22: DeprecationWarning: find_element_by_name is deprecated. Please use find_element(by=By.NAME, value=name) instead\n",
      "  tag_pw = driver.find_element_by_name('pw')\n",
      "C:\\Users\\Public\\Documents\\ESTsoft\\CreatorTemp/ipykernel_14076/3359827165.py:41: DeprecationWarning: find_element_by_* commands are deprecated. Please use find_element() instead\n",
      "  login_btn = driver.find_element_by_id('log.login')\n"
     ]
    }
   ],
   "source": [
    "# pyperclip 모듈 설치\n",
    "# pip install pyperclip\n",
    "\n",
    "from selenium import webdriver\n",
    "from selenium.webdriver.common.keys import Keys\n",
    "import time\n",
    "import pyperclip\n",
    "\n",
    "path = 'c:/downloads/chromedriver.exe'\n",
    "\n",
    "driver = webdriver.Chrome(path)\n",
    "driver.get('https://www.naver.com')\n",
    "time.sleep(1)\n",
    "\n",
    "# 로그인 버튼을 찾고 클릭합니다\n",
    "login_btn = driver.find_element_by_class_name('link_login')\n",
    "login_btn.click()\n",
    "time.sleep(1)\n",
    "\n",
    "# id, pw 입력할 곳을 찾습니다.\n",
    "tag_id = driver.find_element_by_name('id')\n",
    "tag_pw = driver.find_element_by_name('pw')\n",
    "tag_id.clear()\n",
    "time.sleep(1)\n",
    "\n",
    "# id 입력\n",
    "tag_id.click()\n",
    "# pyperclip.copy('아이디')\n",
    "pyperclip.copy('giduck23')                        # id 입력\n",
    "tag_id.send_keys(Keys.CONTROL, 'v')\n",
    "time.sleep(1)\n",
    "\n",
    "# pw 입력\n",
    "tag_pw.click()\n",
    "# pyperclip.copy('비밀번호')\n",
    "pyperclip.copy('비밀번호')                       # 비밀번호 입력\n",
    "tag_pw.send_keys(Keys.CONTROL, 'v')\n",
    "time.sleep(1)\n",
    "\n",
    "# 로그인 버튼을 클릭합니다\n",
    "login_btn = driver.find_element_by_id('log.login')\n",
    "login_btn.click()"
   ]
  }
 ],
 "metadata": {
  "kernelspec": {
   "display_name": "Python 3 (ipykernel)",
   "language": "python",
   "name": "python3"
  },
  "language_info": {
   "codemirror_mode": {
    "name": "ipython",
    "version": 3
   },
   "file_extension": ".py",
   "mimetype": "text/x-python",
   "name": "python",
   "nbconvert_exporter": "python",
   "pygments_lexer": "ipython3",
   "version": "3.9.7"
  }
 },
 "nbformat": 4,
 "nbformat_minor": 5
}

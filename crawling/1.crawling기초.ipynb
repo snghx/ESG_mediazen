{
 "cells": [
  {
   "cell_type": "markdown",
   "id": "b31347a4",
   "metadata": {},
   "source": [
    "# crawling기초\n",
    "### urllib.request 모듈을 이용한 다운로드 : urlretrieve() 함수"
   ]
  },
  {
   "cell_type": "code",
   "execution_count": 1,
   "id": "86d2c18c",
   "metadata": {},
   "outputs": [
    {
     "data": {
      "text/plain": [
       "True"
      ]
     },
     "execution_count": 1,
     "metadata": {},
     "output_type": "execute_result"
    }
   ],
   "source": [
    "import urllib.request as req\n",
    "\n",
    "url=\"https://www.naver.com\"\n",
    "\n",
    "# 네이버 페이지 다운로드\n",
    "req.urlretrieve(url, 'naver.html')                # urlretrieve()함수로 직접 다운로드 한다.\n",
    "\n",
    "import webbrowser\n",
    "webbrowser.open('naver.html')                    # 다운로드 받은 naver.html 파일 실행"
   ]
  },
  {
   "cell_type": "code",
   "execution_count": 9,
   "id": "da951108",
   "metadata": {},
   "outputs": [
    {
     "data": {
      "text/plain": [
       "('daum.png', <http.client.HTTPMessage at 0x2722cd395b0>)"
      ]
     },
     "execution_count": 9,
     "metadata": {},
     "output_type": "execute_result"
    }
   ],
   "source": [
    "import urllib.request as req\n",
    "\n",
    "url=\"https://t1.daumcdn.net/daumtop_chanel/op/20200723055344399.png\"\n",
    "\n",
    "# 다음 log이미지 다운로드\n",
    "req.urlretrieve(url, 'daum.png')"
   ]
  },
  {
   "cell_type": "markdown",
   "id": "529cae01",
   "metadata": {},
   "source": [
    "### urllib.request 모듈을 이용한 다운로드 : urlopen() 함수"
   ]
  },
  {
   "cell_type": "code",
   "execution_count": 10,
   "id": "0b59a261",
   "metadata": {},
   "outputs": [],
   "source": [
    "import urllib.request as req\n",
    "\n",
    "url=\"https://t1.daumcdn.net/daumtop_chanel/op/20200723055344399.png\"\n",
    "\n",
    "mem = req.urlopen(url).read()          #urlopen( )함수를 이용해 메모리 상에 데이터를 열고, 읽어온다.\n",
    "\n",
    "# daum로고 이미지를 파일로 저장 ( w:쓰기모드, b:바이너리 모드 )\n",
    "with open('daumlog.png', mode='wb') as f:\n",
    "    f.write(mem)"
   ]
  },
  {
   "attachments": {},
   "cell_type": "markdown",
   "id": "b445e6e5",
   "metadata": {},
   "source": [
    "## BeautifulSoup\n",
    "#### find('태그명') : 특정 태그 1개만 추출하는 역할\n",
    "#### find('태그명').string : 특정 태그 안에 있는 텍스트를 추출하는 역할\n",
    "#### find('태그명').text : 특정 태그 안에 있는 텍스트를 추출하는 역할\n",
    "#### find('태그명').get_text() : 특정 태그 안에 있는 텍스트를 추출하는 역할\n",
    "#### find('태그명' , {'class' : 'class명'} ) : class 값을 이용해서 추출\n",
    "#### find('태그명' , {'id' : 'id명'} ) : id명을 이용해서 특정 태그를 구함\n",
    "#### find( id = 'id명' ) : id명을 이용해서 특정 태그를 구함\n",
    "#### findAll('태그명') : 지정된 모든 태그를 리스트 형태로 추출하는 역할\n",
    "#### find_all('태그명') : 지정된 모든 태그를 리스트 형태로 추출하는 역할"
   ]
  },
  {
   "cell_type": "code",
   "execution_count": null,
   "id": "b0d66b54",
   "metadata": {},
   "outputs": [],
   "source": [
    "### find() 함수"
   ]
  },
  {
   "cell_type": "code",
   "execution_count": 8,
   "id": "64197fb4",
   "metadata": {},
   "outputs": [
    {
     "name": "stdout",
     "output_type": "stream",
     "text": [
      "<html><div>hello</div></html>\n",
      "<div>hello</div>\n",
      "hello\n"
     ]
    }
   ],
   "source": [
    "from bs4 import BeautifulSoup\n",
    "\n",
    "html_str = '<html><div>hello</div></html>'\n",
    "soup = BeautifulSoup(html_str, \"html.parser\")\n",
    "\n",
    "print(soup)                                  # <html><div>hello</div></html>\n",
    "print(soup.find(\"div\"))                      # <div>hello</div>\n",
    "print(soup.find(\"div\").text)                 # hello"
   ]
  },
  {
   "cell_type": "code",
   "execution_count": 11,
   "id": "dda52f16",
   "metadata": {},
   "outputs": [
    {
     "name": "stdout",
     "output_type": "stream",
     "text": [
      "<ul>\n",
      "<li>hello</li>\n",
      "<li>bye</li>\n",
      "<li>welcome</li>\n",
      "</ul>\n"
     ]
    }
   ],
   "source": [
    "from bs4 import BeautifulSoup\n",
    "\n",
    "html_str = \"\"\"\n",
    "<html>\n",
    "    <body>\n",
    "        <ul>\n",
    "            <li>hello</li>\n",
    "            <li>bye</li>\n",
    "            <li>welcome</li>\n",
    "        </ul>\n",
    "    </body>\n",
    "</html>\n",
    "\"\"\"\n",
    "bs_obj = BeautifulSoup(html_str, \"html.parser\")\n",
    "ul = bs_obj.find(\"ul\")                             # ul 태그 안에 있는 모든 내용을 추출함\n",
    "print(ul)"
   ]
  },
  {
   "cell_type": "code",
   "execution_count": 12,
   "id": "d8a39471",
   "metadata": {},
   "outputs": [
    {
     "name": "stdout",
     "output_type": "stream",
     "text": [
      "<li>hello</li>\n",
      "hello\n"
     ]
    }
   ],
   "source": [
    "from bs4 import BeautifulSoup\n",
    "\n",
    "html_str = \"\"\"\n",
    "<html>\n",
    "    <body>\n",
    "        <ul>\n",
    "            <li>hello</li>\n",
    "            <li>bye</li>\n",
    "            <li>welcome</li>\n",
    "        </ul>\n",
    "    </body>\n",
    "</html>\n",
    "\"\"\"\n",
    "\n",
    "bs_obj = BeautifulSoup(html_str, \"html.parser\")\n",
    "\n",
    "ul = bs_obj.find(\"ul\")                 # ul 태그 안에 있는 모든 내용을 추출함\n",
    "li = ul.find(\"li\")                     # 첫번째 li 태그 안에 내용만 추출함\n",
    "print(li)                              # <li>hello</li>\n",
    "print(li.text)                         # hello"
   ]
  },
  {
   "cell_type": "markdown",
   "id": "a9382f51",
   "metadata": {},
   "source": [
    "### findAll() 함수"
   ]
  },
  {
   "cell_type": "code",
   "execution_count": 13,
   "id": "d4c79d33",
   "metadata": {},
   "outputs": [
    {
     "name": "stdout",
     "output_type": "stream",
     "text": [
      "[<li>hello</li>, <li>bye</li>, <li>welcome</li>]\n"
     ]
    }
   ],
   "source": [
    "from bs4 import BeautifulSoup\n",
    "\n",
    "html_str = \"\"\"\n",
    "<html>\n",
    "    <body>\n",
    "        <ul>\n",
    "            <li>hello</li>\n",
    "            <li>bye</li>\n",
    "            <li>welcome</li>\n",
    "        </ul>\n",
    "    </body>\n",
    "</html>\n",
    "\"\"\"\n",
    "bs_obj = BeautifulSoup(html_str, \"html.parser\")\n",
    "\n",
    "ul = bs_obj.find(\"ul\")                        # 첫번째 ul 태그를 구해옴\n",
    "list = ul.findAll(\"li\")                       # 모든 li 태그를 구해옴\n",
    "print(list)                                   # [<li>hello</li>, <li>bye</li>, <li>welcome</li>]"
   ]
  },
  {
   "cell_type": "code",
   "execution_count": 14,
   "id": "5ba3b23e",
   "metadata": {},
   "outputs": [
    {
     "name": "stdout",
     "output_type": "stream",
     "text": [
      "<li>bye</li>\n",
      "bye\n"
     ]
    }
   ],
   "source": [
    "from bs4 import BeautifulSoup\n",
    "\n",
    "html_str = \"\"\"\n",
    "<html>\n",
    "    <body>\n",
    "        <ul>\n",
    "            <li>hello</li>\n",
    "            <li>bye</li>\n",
    "            <li>welcome</li>\n",
    "        </ul>\n",
    "    </body>\n",
    "</html>\n",
    "\"\"\"\n",
    "bs_obj = BeautifulSoup(html_str, \"html.parser\")\n",
    "\n",
    "ul = bs_obj.find(\"ul\")                      # 첫번째 ul 태그를 구해옴\n",
    "list = ul.findAll(\"li\")                     # 모든 li 태그를 구해옴\n",
    "print(list[1])                              # index 1번(두 번째 li태그)을 구해옴  <li>bye</li>\n",
    "print(list[1].text)                         # 텍스트 값을 구해옴  bye"
   ]
  },
  {
   "cell_type": "markdown",
   "id": "e24f5084",
   "metadata": {},
   "source": [
    "### class 속성"
   ]
  },
  {
   "cell_type": "code",
   "execution_count": 17,
   "id": "9774016e",
   "metadata": {},
   "outputs": [
    {
     "name": "stdout",
     "output_type": "stream",
     "text": [
      "ok\n",
      "no\n",
      "sure\n"
     ]
    }
   ],
   "source": [
    "from bs4 import BeautifulSoup\n",
    "\n",
    "html_str = \"\"\"\n",
    "<html>\n",
    "    <body>\n",
    "        <ul class=\"greet\">\n",
    "            <li>hello</li>\n",
    "            <li>bye</li>\n",
    "            <li>welcome</li>\n",
    "        </ul> \n",
    "        <ul class=\"reply\">\n",
    "            <li>ok</li>\n",
    "            <li>no</li>\n",
    "            <li>sure</li>\n",
    "        </ul>\n",
    "    </body>\n",
    "</html>\n",
    "\"\"\"\n",
    "bs_obj = BeautifulSoup(html_str, \"html.parser\")\n",
    "ul_reply = bs_obj.find(\"ul\", {\"class\":\"reply\"})         # ul 태그에서 class 속성값이 reply 데이터 추출\n",
    "list = ul_reply.findAll(\"li\")                           # 모든 li 태그를 추출\n",
    "for li in list:\n",
    "    print(li.text)                                      # ok no sure  출력"
   ]
  },
  {
   "cell_type": "markdown",
   "id": "392a2647",
   "metadata": {},
   "source": [
    "### id 속성"
   ]
  },
  {
   "cell_type": "code",
   "execution_count": 19,
   "id": "2dd674f5",
   "metadata": {},
   "outputs": [
    {
     "name": "stdout",
     "output_type": "stream",
     "text": [
      "#title=스크레이핑이란?\n",
      "#body=웹 페이지를 분석하는 것\n"
     ]
    }
   ],
   "source": [
    "from bs4 import BeautifulSoup\n",
    "\n",
    "html = \"\"\"\n",
    "<html><body>\n",
    "  <h1 id=\"title\">스크레이핑이란?</h1>\n",
    "  <p id=\"body\">웹 페이지를 분석하는 것</p>\n",
    "  <p>원하는 부분을 추출하는 것</p>\n",
    "</body></html>\n",
    "\"\"\"\n",
    "\n",
    "# HTML 분석하기 : BeautifulSoup 인스턴스 생성\n",
    "soup = BeautifulSoup(html, 'html.parser')\n",
    "\n",
    "# find() 메서드로 원하는 부분 추출하기\n",
    "title = soup.find(id=\"title\")                        # id=\"title\" 인 요소를 구해옴\n",
    "body  = soup.find(id=\"body\")\n",
    "\n",
    "# 텍스트 부분 출력하기\n",
    "print(\"#title=\" + title.text)\n",
    "print(\"#body=\"  + body.text)"
   ]
  },
  {
   "cell_type": "code",
   "execution_count": 21,
   "id": "2a750374",
   "metadata": {},
   "outputs": [
    {
     "name": "stdout",
     "output_type": "stream",
     "text": [
      "title: 토지\n",
      "author: 박경리\n",
      "title2: [<p id=\"book_title\">토지</p>, <p id=\"book_title\">태백산맥</p>, <p id=\"book_title\">감옥으로부터의 사색</p>]\n",
      "토지\n",
      "태백산맥\n",
      "감옥으로부터의 사색\n",
      "author2: [<p id=\"author\">박경리</p>, <p id=\"author\">조정래</p>, <p id=\"author\">신영복</p>]\n",
      "박경리\n",
      "조정래\n",
      "신영복\n"
     ]
    }
   ],
   "source": [
    "from bs4 import BeautifulSoup\n",
    "\n",
    "html = \"\"\"\n",
    "<html>\n",
    " <head>\n",
    "  <title>작품과 작가 모음</title>\n",
    " </head>\n",
    " <body>\n",
    "  <h1>책 정보</h1>\n",
    "  <p id=\"book_title\">토지</p>\n",
    "  <p id=\"author\">박경리</p>\n",
    "\n",
    "  <p id=\"book_title\">태백산맥</p>\n",
    "  <p id=\"author\">조정래</p>\n",
    "\n",
    "  <p id=\"book_title\">감옥으로부터의 사색</p>\n",
    "  <p id=\"author\">신영복</p>\n",
    " </body>\n",
    "</html>\n",
    "\"\"\"\n",
    "\n",
    "soup = BeautifulSoup(html, 'html.parser')\n",
    "\n",
    "# id 값이 book_title 인 첫번째 p태그를 구해옴\n",
    "title = soup.find('p', {\"id\":\"book_title\"}).text\n",
    "print('title:', title)                                        # title: 토지\n",
    "\n",
    "# id값이 author 인 첫번째 p태그를 구해옴\n",
    "author = soup.find('p', {\"id\":\"author\"}).text\n",
    "print('author:', author)                                      # author: 박경리\n",
    "\n",
    "# id 값이 book_title 인 모든 p태그를 구해와서 리스트로 리턴\n",
    "title2 = soup.find_all('p', {\"id\":\"book_title\"})\n",
    "print('title2:', title2)\n",
    "for t2 in title2:\n",
    "    print(t2.text)\n",
    "\n",
    "# id값이 author 인 모든 p태그를 구해와서 리스트로 리턴\n",
    "author2 = soup.find_all('p', {\"id\":\"author\"})\n",
    "print('author2:', author2)\n",
    "for a2 in author2:\n",
    "    print(a2.text)"
   ]
  },
  {
   "cell_type": "markdown",
   "id": "62043adc",
   "metadata": {},
   "source": [
    "### select_one(선택자) : css 선택자로 태그 한개를 추출\n",
    "### select(선택자) : css 선택자로 여러 개를 리스트로 추출"
   ]
  },
  {
   "cell_type": "code",
   "execution_count": 23,
   "id": "49d0c572",
   "metadata": {},
   "outputs": [
    {
     "name": "stdout",
     "output_type": "stream",
     "text": [
      "h1 = 중앙 도서\n",
      "li = 유니티 게임 이펙트 입문\n",
      "li = 스위프트로 시작하는 아이폰 앱 개발 교과서\n",
      "li = 모던 웹사이트 디자인의 정석\n"
     ]
    }
   ],
   "source": [
    "from bs4 import BeautifulSoup\n",
    "\n",
    "# 분석 대상 HTML\n",
    "html = \"\"\"\n",
    "<html><body>\n",
    "<div id=\"meigen\">\n",
    "  <h1>중앙 도서</h1>\n",
    "  <ul class=\"items\">\n",
    "    <li>유니티 게임 이펙트 입문</li>\n",
    "    <li>스위프트로 시작하는 아이폰 앱 개발 교과서</li>\n",
    "    <li>모던 웹사이트 디자인의 정석</li>\n",
    "  </ul>\n",
    "</div>\n",
    "</body></html>\n",
    "\"\"\"\n",
    "\n",
    "# HTML 분석하기\n",
    "soup = BeautifulSoup(html, 'html.parser')\n",
    "\n",
    "# 필요한 부분을 CSS 쿼리로 추출하기\n",
    "# 타이틀 부분 추출하기\n",
    "h1 = soup.select_one(\"div#meigen > h1\").string\n",
    "print(\"h1 =\", h1)\n",
    "\n",
    "# 목록 부분 추출하기\n",
    "li_list = soup.select(\"div#meigen > ul.items > li\")\n",
    "for li in li_list:\n",
    "   print(\"li =\", li.string)"
   ]
  }
 ],
 "metadata": {
  "kernelspec": {
   "display_name": "Python 3 (ipykernel)",
   "language": "python",
   "name": "python3"
  },
  "language_info": {
   "codemirror_mode": {
    "name": "ipython",
    "version": 3
   },
   "file_extension": ".py",
   "mimetype": "text/x-python",
   "name": "python",
   "nbconvert_exporter": "python",
   "pygments_lexer": "ipython3",
   "version": "3.9.7"
  }
 },
 "nbformat": 4,
 "nbformat_minor": 5
}
